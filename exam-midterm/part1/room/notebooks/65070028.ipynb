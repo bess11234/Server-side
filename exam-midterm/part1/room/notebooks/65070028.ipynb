{
 "cells": [
  {
   "cell_type": "code",
   "execution_count": 1,
   "metadata": {},
   "outputs": [],
   "source": [
    "import os\n",
    "os.environ[\"DJANGO_ALLOW_ASYNC_UNSAFE\"] = \"true\"\n",
    "\n",
    "from datetime import datetime, timedelta\n",
    "import datetime as dt\n",
    "from django.utils import timezone\n",
    "from bookings.models import Room, RoomType, Staff, Booking\n",
    "\n",
    "from django.db.models import *\n",
    "from django.db.models.functions import *"
   ]
  },
  {
   "cell_type": "markdown",
   "metadata": {},
   "source": [
    "# 1. CRUD operations"
   ]
  },
  {
   "cell_type": "markdown",
   "metadata": {},
   "source": [
    "1.1 ให้เพิ่มห้อง (`Room`) โดยมีข้อมูลดังนี้ (0.5 คะแนน)\n",
    "\n",
    "- number: 203\n",
    "- name: Laboratory A\n",
    "- capacity: 50\n",
    "- description: Laboratory for Web Development\n",
    "- room_types: Lecture, Office"
   ]
  },
  {
   "cell_type": "code",
   "execution_count": 4,
   "metadata": {},
   "outputs": [],
   "source": [
    "# CODE HERE\n",
    "lecture = RoomType.objects.get(name=\"Lecture\")\n",
    "office = RoomType.objects.get(name=\"Office\")\n",
    "room = Room.objects.create(number=\"203\", name=\"Laboratory A\", capacity=50, description=\"Laboratory for Web Development\")\n",
    "room.room_types.add(lecture, office)"
   ]
  },
  {
   "cell_type": "code",
   "execution_count": 5,
   "metadata": {},
   "outputs": [
    {
     "name": "stdout",
     "output_type": "stream",
     "text": [
      "ROOM: Room 203: Laboratory A; ROOM TYPE: Lecture\n",
      "ROOM: Room 203: Laboratory A; ROOM TYPE: Office\n"
     ]
    }
   ],
   "source": [
    "# CHECK RESULTS (ห้ามลบ/แก้ไข)\n",
    "r = Room.objects.get(number=\"203\")\n",
    "for t in r.room_types.all():\n",
    "    print(f\"ROOM: {r}; ROOM TYPE: {t.name}\")"
   ]
  },
  {
   "cell_type": "markdown",
   "metadata": {},
   "source": [
    "1.2 เนื่องจากนโยบายการจองคือห้ามจองห้องเกิน 1 ชั่วโมง ดังนั้นให้ค้นหาการจองห้อง (`Booking`) ที่มีระยะเวลามากกว่า 1 ชั่วโมงและทำการลบออกทั้งหมด (1 คะแนน)\n",
    "\n",
    "**Hint: ให้ annotate() คำนวณระยะเวลาการจอง และนำระยะเวลาการจองมา filter() ดังตัวอย่าง**\n",
    "\n",
    "```python\n",
    "from datetime import timedelta\n",
    "\n",
    "queryset.filter(\n",
    "    duration__gt=timedelta(hours=1)\n",
    ")\n",
    "```"
   ]
  },
  {
   "cell_type": "code",
   "execution_count": 22,
   "metadata": {
    "scrolled": true
   },
   "outputs": [
    {
     "data": {
      "text/plain": [
       "<QuerySet [<Booking: Booking by John Doe for Room 101: Main Conference Room from 2024-08-18 02:00:00+00:00 to 2024-08-18 04:00:00+00:00>, <Booking: Booking by Jane Smith for Room 202: Lecture Hall A from 2024-08-19 05:00:00+00:00 to 2024-08-19 07:00:00+00:00>, <Booking: Booking by John Doe for Room 101: Main Conference Room from 2024-08-19 03:00:00+00:00 to 2024-08-19 05:00:00+00:00>, <Booking: Booking by Emily Davis for Room 303: Executive Office from 2024-08-22 07:00:00+00:00 to 2024-08-22 08:30:00+00:00>, <Booking: Booking by John Doe for Room 303: Executive Office from 2024-08-24 04:00:00+00:00 to 2024-08-24 06:00:00+00:00>, <Booking: Booking by Emily Davis for Room 202: Lecture Hall A from 2024-08-26 04:00:00+00:00 to 2024-08-26 05:30:00+00:00>, <Booking: Booking by John Doe for Room 202: Lecture Hall A from 2024-08-30 08:00:00+00:00 to 2024-08-30 10:00:00+00:00>, <Booking: Booking by Emily Davis for Room 303: Executive Office from 2024-08-30 05:00:00+00:00 to 2024-08-30 06:30:00+00:00>, <Booking: Booking by Emily Davis for Room 101: Main Conference Room from 2024-09-03 02:00:00+00:00 to 2024-09-03 03:30:00+00:00>, <Booking: Booking by John Doe for Room 202: Lecture Hall A from 2024-09-07 02:00:00+00:00 to 2024-09-07 03:30:00+00:00>, <Booking: Booking by Emily Davis for Room 303: Executive Office from 2024-09-09 08:00:00+00:00 to 2024-09-09 09:30:00+00:00>, <Booking: Booking by Jane Smith for Room 101: Main Conference Room from 2024-09-14 02:00:00+00:00 to 2024-09-14 03:30:00+00:00>, <Booking: Booking by Emily Davis for Room 303: Executive Office from 2024-09-14 04:00:00+00:00 to 2024-09-14 05:30:00+00:00>]>"
      ]
     },
     "execution_count": 22,
     "metadata": {},
     "output_type": "execute_result"
    }
   ],
   "source": [
    "# CODE HERE - Filter การจองที่เกิน 1 ชม.\n",
    "Booking.objects.annotate(duration=F(\"end_time\")-F(\"start_time\")).filter(duration__gt=timedelta(hours=1))"
   ]
  },
  {
   "cell_type": "code",
   "execution_count": 9,
   "metadata": {},
   "outputs": [
    {
     "data": {
      "text/plain": [
       "33"
      ]
     },
     "execution_count": 9,
     "metadata": {},
     "output_type": "execute_result"
    }
   ],
   "source": [
    "# CHECK RESULTS - จำนวนการจองทั้งหมด (ห้ามลบ/แก้ไข)\n",
    "Booking.objects.count()"
   ]
  },
  {
   "cell_type": "code",
   "execution_count": 23,
   "metadata": {},
   "outputs": [
    {
     "data": {
      "text/plain": [
       "(13, {'bookings.Booking': 13})"
      ]
     },
     "execution_count": 23,
     "metadata": {},
     "output_type": "execute_result"
    }
   ],
   "source": [
    "# CODE HERE - ลบการจองที่เกิน 1 ชม.\n",
    "Booking.objects.annotate(duration=F(\"end_time\")-F(\"start_time\")).filter(duration__gt=timedelta(hours=1)).delete()"
   ]
  },
  {
   "cell_type": "code",
   "execution_count": 24,
   "metadata": {},
   "outputs": [
    {
     "data": {
      "text/plain": [
       "20"
      ]
     },
     "execution_count": 24,
     "metadata": {},
     "output_type": "execute_result"
    }
   ],
   "source": [
    "# CHECK RESULTS - จำนวนการจองทั้งหมดหลังการลบ (ห้ามลบ/แก้ไข)\n",
    "Booking.objects.count()"
   ]
  },
  {
   "cell_type": "markdown",
   "metadata": {},
   "source": [
    "1.3 ทำการเพิ่มการจอง (`Booking`) ซึ่งมีรายละเอียดดังนี้ (1 คะแนน)\n",
    "\n",
    "- staff: \"Jane Smith\"\n",
    "- room: \"Lecture Hall A\"\n",
    "- start_time: 26/08/2024 13:00\n",
    "- end_time: 26/08/2024 14:00\n",
    "- purpose: \"To teach subject: IT Project Management\""
   ]
  },
  {
   "cell_type": "code",
   "execution_count": 29,
   "metadata": {},
   "outputs": [
    {
     "name": "stderr",
     "output_type": "stream",
     "text": [
      "C:\\Users\\LAB205_xx\\Desktop\\New folder\\myvenv\\Lib\\site-packages\\django\\db\\models\\fields\\__init__.py:1665: RuntimeWarning: DateTimeField Booking.start_time received a naive datetime (2024-08-26 13:00:00) while time zone support is active.\n",
      "  warnings.warn(\n",
      "C:\\Users\\LAB205_xx\\Desktop\\New folder\\myvenv\\Lib\\site-packages\\django\\db\\models\\fields\\__init__.py:1665: RuntimeWarning: DateTimeField Booking.end_time received a naive datetime (2024-08-26 14:00:00) while time zone support is active.\n",
      "  warnings.warn(\n"
     ]
    },
    {
     "data": {
      "text/plain": [
       "<Booking: Booking by Jane Smith for Room 202: Lecture Hall A from 2024-08-26 13:00:00 to 2024-08-26 14:00:00>"
      ]
     },
     "execution_count": 29,
     "metadata": {},
     "output_type": "execute_result"
    }
   ],
   "source": [
    "# CODE HERE\n",
    "staff = Staff.objects.get(name=\"Jane Smith\")\n",
    "room = Room.objects.get(name=\"Lecture Hall A\")\n",
    "Booking.objects.create(staff=staff, room=room, start_time=datetime(2024, 8, 26, 13), end_time=datetime(2024, 8, 26, 14), purpose=\"To teach subject: IT Project Management\")"
   ]
  },
  {
   "cell_type": "code",
   "execution_count": 30,
   "metadata": {},
   "outputs": [
    {
     "name": "stdout",
     "output_type": "stream",
     "text": [
      "STAFF: Jane Smith, ROOM: Room 202: Lecture Hall A, START: 2024-08-26 13:00:00+00:00 - 2024-08-26 14:00:00+00:00\n"
     ]
    }
   ],
   "source": [
    "# CHECK RESULTS (ห้ามลบ/แก้ไข)\n",
    "booking = Booking.objects.last()\n",
    "print(f\"STAFF: {booking.staff}, ROOM: {booking.room}, START: {timezone.localtime(booking.start_time)} - {timezone.localtime(booking.end_time)}\")"
   ]
  },
  {
   "cell_type": "markdown",
   "metadata": {},
   "source": [
    "1.4 จากข้อ 1.3 คุณ \"Jane Smith\" จองห้องผิดจริงๆ เขาอยากจะจองเป็น \"Laboratory A\" (ที่สร้างในข้อ 1.1) (0.5 คะแนน)"
   ]
  },
  {
   "cell_type": "code",
   "execution_count": 35,
   "metadata": {},
   "outputs": [],
   "source": [
    "# CODE HERE\n",
    "booking = Booking.objects.last()\n",
    "room = Room.objects.get(name=\"Laboratory A\")\n",
    "booking.room = room\n",
    "booking.save()"
   ]
  },
  {
   "cell_type": "code",
   "execution_count": 36,
   "metadata": {},
   "outputs": [
    {
     "name": "stdout",
     "output_type": "stream",
     "text": [
      "STAFF: Jane Smith, ROOM: Room 203: Laboratory A, START: 2024-08-26 13:00:00+00:00 - 2024-08-26 14:00:00+00:00\n"
     ]
    }
   ],
   "source": [
    "# CHECK RESULTS (ห้ามลบ/แก้ไข)\n",
    "booking = Booking.objects.last()\n",
    "print(f\"STAFF: {booking.staff}, ROOM: {booking.room}, START: {timezone.localtime(booking.start_time)} - {timezone.localtime(booking.end_time)}\")"
   ]
  },
  {
   "cell_type": "markdown",
   "metadata": {},
   "source": [
    "# 2. Making Queries"
   ]
  },
  {
   "cell_type": "markdown",
   "metadata": {},
   "source": [
    "**ให้ทำการ reset DB และ import ข้อมูลใน bookings.sql เข้าไปใหม่**"
   ]
  },
  {
   "cell_type": "markdown",
   "metadata": {},
   "source": [
    "2.1 ให้หาจำนวนการจองที่จองในช่วงวันที่ (`Booking`) ในช่วงวันที่ 2024-08-18 ถึง 2024-08-25 ที่จองห้องในประเภท (`RoomType`) \"Conference\" (1 คะแนน)\n",
    "\n",
    "**Expected Output**\n",
    "\n",
    "จะต้องมี 7 รายการ\n",
    "\n",
    "*หมายเหตุ: จะต้อง get ข้อมูลมาโดยใช้การ query ด้วยชื่อตามที่โจทย์ว่าเท่านั้น ห้ามใช้ id ใน database*"
   ]
  },
  {
   "cell_type": "code",
   "execution_count": 9,
   "metadata": {},
   "outputs": [
    {
     "data": {
      "text/plain": [
       "7"
      ]
     },
     "execution_count": 9,
     "metadata": {},
     "output_type": "execute_result"
    }
   ],
   "source": [
    "# CODE HERE\n",
    "Booking.objects.filter(start_time__range=(datetime(2024, 8, 18), datetime(2024, 8, 25)), room__room_types__name=\"Conference\").count()"
   ]
  },
  {
   "cell_type": "markdown",
   "metadata": {},
   "source": [
    "2.2 ให้หาจำนวนการจองของห้องแต่ละห้อง โดยแสดงผลดังนี้ - เรียงจากจำนวนการจอง มาก ไป น้อย (1 คะแนน)\n",
    "\n",
    "**Expected Output**\n",
    "\n",
    "```\n",
    "ROOM: Room 101: Main Conference Room, BOOKINGS: 12\n",
    "ROOM: Room 303: Executive Office, BOOKINGS: 12\n",
    "ROOM: Room 202: Lecture Hall A, BOOKINGS: 9\n",
    "```"
   ]
  },
  {
   "cell_type": "code",
   "execution_count": 13,
   "metadata": {},
   "outputs": [
    {
     "name": "stdout",
     "output_type": "stream",
     "text": [
      "ROOM: Room 101: Main Conference Room, BOOKINGS: 12\n",
      "ROOM: Room 303: Executive Office, BOOKINGS: 12\n",
      "ROOM: Room 202: Lecture Hall A, BOOKINGS: 9\n"
     ]
    }
   ],
   "source": [
    "# CODE HERE\n",
    "for i in Room.objects.values(\"name\", \"number\").annotate(bookings=Count(\"booking\")).order_by(\"-bookings\", \"number\"):\n",
    "    print(\"ROOM: Room %s: %s, BOOKINGS: %d\"%(i['number'], i['name'], i['bookings']))"
   ]
  },
  {
   "cell_type": "markdown",
   "metadata": {},
   "source": [
    "2.3 ในช่วงวันที่ 2024-08-18 ถึง 2024-08-25 ให้หาว่าพนักงานแต่ละคนมีการจองห้องไหนบ้าง โดยแสดงผลดังนี้ (2 คะแนน)\n",
    "\n",
    "**Expected Output**\n",
    "\n",
    "```\n",
    "STAFF: John Doe, BOOKED ROOMS: Main Conference Room, Executive Office\n",
    "STAFF: Jane Smith, BOOKED ROOMS: Main Conference Room, Executive Office, Lecture Hall A\n",
    "STAFF: Emily Davis, BOOKED ROOMS: Lecture Hall A, Executive Office\n",
    "```"
   ]
  },
  {
   "cell_type": "code",
   "execution_count": 39,
   "metadata": {},
   "outputs": [
    {
     "name": "stdout",
     "output_type": "stream",
     "text": [
      "STAFF: John Doe, BOOKED ROOMS: Main Conference Room, Executive Office\n",
      "STAFF: Jane Smith, BOOKED ROOMS: Main Conference Room, Lecture Hall A, Executive Office\n",
      "STAFF: Emily Davis, BOOKED ROOMS: Lecture Hall A, Executive Office\n"
     ]
    }
   ],
   "source": [
    "# CODE HERE\n",
    "for i in Booking.objects.filter(start_time__range=(datetime(2024, 8, 18), datetime(2024, 8, 25))).distinct(\"staff__name\").order_by(\"-staff__name\"):\n",
    "    print(\"STAFF: %s, BOOKED ROOMS: \"%i.staff.name, end=\"\")\n",
    "    print(*Booking.objects.filter(staff__name=i.staff.name, start_time__range=(datetime(2024, 8, 18), datetime(2024, 8, 25))).values_list(\"room__name\", flat=True).order_by(\"-room__name\").distinct(), sep=\", \")"
   ]
  },
  {
   "cell_type": "markdown",
   "metadata": {},
   "source": [
    "2.4 ให้หาว่าการจองห้องในแต่ละวันมีค่าความจุ (ดูจาก `Room.capacity`) โดยรวมเท่าไหร่ เรียงลำดับความจุรวมจากมากไปน้อย (2 คะแนน)\n",
    "\n",
    "**Expected Output**\n",
    "\n",
    "```\n",
    "DATE: 2024-08-26, SUM CAPACITY: 155\n",
    "DATE: 2024-08-24, SUM CAPACITY: 155\n",
    "DATE: 2024-08-30, SUM CAPACITY: 155\n",
    "DATE: 2024-08-19, SUM CAPACITY: 155\n",
    "DATE: 2024-09-02, SUM CAPACITY: 100\n",
    "DATE: 2024-09-06, SUM CAPACITY: 100\n",
    "DATE: 2024-09-12, SUM CAPACITY: 100\n",
    "DATE: 2024-09-07, SUM CAPACITY: 100\n",
    "DATE: 2024-09-13, SUM CAPACITY: 100\n",
    "DATE: 2024-09-14, SUM CAPACITY: 55\n",
    "DATE: 2024-08-18, SUM CAPACITY: 55\n",
    "DATE: 2024-08-28, SUM CAPACITY: 55\n",
    "DATE: 2024-09-05, SUM CAPACITY: 50\n",
    "DATE: 2024-09-08, SUM CAPACITY: 50\n",
    "DATE: 2024-09-01, SUM CAPACITY: 50\n",
    "DATE: 2024-09-10, SUM CAPACITY: 50\n",
    "DATE: 2024-09-03, SUM CAPACITY: 50\n",
    "DATE: 2024-09-11, SUM CAPACITY: 5\n",
    "DATE: 2024-08-27, SUM CAPACITY: 5\n",
    "DATE: 2024-09-09, SUM CAPACITY: 5\n",
    "DATE: 2024-09-04, SUM CAPACITY: 5\n",
    "DATE: 2024-08-22, SUM CAPACITY: 5\n",
    "```"
   ]
  },
  {
   "cell_type": "code",
   "execution_count": 3,
   "metadata": {},
   "outputs": [
    {
     "name": "stdout",
     "output_type": "stream",
     "text": [
      "DATE: 2024-08-30, SUM CAPACITY: 155\n",
      "DATE: 2024-08-24, SUM CAPACITY: 155\n",
      "DATE: 2024-08-19, SUM CAPACITY: 155\n",
      "DATE: 2024-08-26, SUM CAPACITY: 155\n",
      "DATE: 2024-09-02, SUM CAPACITY: 100\n",
      "DATE: 2024-09-06, SUM CAPACITY: 100\n",
      "DATE: 2024-09-07, SUM CAPACITY: 100\n",
      "DATE: 2024-09-12, SUM CAPACITY: 100\n",
      "DATE: 2024-09-13, SUM CAPACITY: 100\n",
      "DATE: 2024-08-28, SUM CAPACITY: 55\n",
      "DATE: 2024-09-14, SUM CAPACITY: 55\n",
      "DATE: 2024-08-18, SUM CAPACITY: 55\n",
      "DATE: 2024-09-10, SUM CAPACITY: 50\n",
      "DATE: 2024-09-08, SUM CAPACITY: 50\n",
      "DATE: 2024-09-01, SUM CAPACITY: 50\n",
      "DATE: 2024-09-03, SUM CAPACITY: 50\n",
      "DATE: 2024-09-05, SUM CAPACITY: 50\n",
      "DATE: 2024-09-09, SUM CAPACITY: 5\n",
      "DATE: 2024-09-04, SUM CAPACITY: 5\n",
      "DATE: 2024-08-22, SUM CAPACITY: 5\n",
      "DATE: 2024-08-27, SUM CAPACITY: 5\n",
      "DATE: 2024-09-11, SUM CAPACITY: 5\n"
     ]
    }
   ],
   "source": [
    "# CODE HERE\n",
    "for i in Booking.objects.values(\"start_time__date\").annotate(total=Sum(\"room__capacity\")).order_by(\"-total\"):\n",
    "    print(\"DATE: %s, SUM CAPACITY: %d\"%(i['start_time__date'], i['total']))"
   ]
  },
  {
   "cell_type": "markdown",
   "metadata": {},
   "source": [
    "2.5 จงหาการจองที่มีวัตถุประสงค์ (`Booking.purpose`) ที่มีความยาวตัวอักษรมากกว่า 20 ตัวอักษร หรือ จะต้องใช้ห้องที่มีความจุมากกว่าหรือเท่ากับ 100 (1 คะแนน)\n",
    "\n",
    "**Expected Output**\n",
    "\n",
    "```\n",
    "START DATE: 2024-08-18, ROOM: Room 101: Main Conference Room, PURPOSE LENGTH: 21, ROOM CAP: 50\n",
    "START DATE: 2024-08-19, ROOM: Room 202: Lecture Hall A, PURPOSE LENGTH: 19, ROOM CAP: 100\n",
    "START DATE: 2024-08-19, ROOM: Room 303: Executive Office, PURPOSE LENGTH: 22, ROOM CAP: 5\n",
    "START DATE: 2024-08-24, ROOM: Room 303: Executive Office, PURPOSE LENGTH: 25, ROOM CAP: 5\n",
    "START DATE: 2024-08-24, ROOM: Room 202: Lecture Hall A, PURPOSE LENGTH: 15, ROOM CAP: 100\n",
    "START DATE: 2024-08-26, ROOM: Room 202: Lecture Hall A, PURPOSE LENGTH: 12, ROOM CAP: 100\n",
    "START DATE: 2024-08-27, ROOM: Room 303: Executive Office, PURPOSE LENGTH: 21, ROOM CAP: 5\n",
    "START DATE: 2024-08-30, ROOM: Room 202: Lecture Hall A, PURPOSE LENGTH: 19, ROOM CAP: 100\n",
    "START DATE: 2024-08-30, ROOM: Room 303: Executive Office, PURPOSE LENGTH: 23, ROOM CAP: 5\n",
    "START DATE: 2024-09-02, ROOM: Room 202: Lecture Hall A, PURPOSE LENGTH: 21, ROOM CAP: 100\n",
    "START DATE: 2024-09-03, ROOM: Room 101: Main Conference Room, PURPOSE LENGTH: 24, ROOM CAP: 50\n",
    "START DATE: 2024-09-05, ROOM: Room 101: Main Conference Room, PURPOSE LENGTH: 23, ROOM CAP: 50\n",
    "START DATE: 2024-09-06, ROOM: Room 202: Lecture Hall A, PURPOSE LENGTH: 22, ROOM CAP: 100\n",
    "START DATE: 2024-09-07, ROOM: Room 202: Lecture Hall A, PURPOSE LENGTH: 18, ROOM CAP: 100\n",
    "START DATE: 2024-09-10, ROOM: Room 101: Main Conference Room, PURPOSE LENGTH: 22, ROOM CAP: 50\n",
    "START DATE: 2024-09-12, ROOM: Room 202: Lecture Hall A, PURPOSE LENGTH: 22, ROOM CAP: 100\n",
    "START DATE: 2024-09-13, ROOM: Room 202: Lecture Hall A, PURPOSE LENGTH: 14, ROOM CAP: 100\n",
    "START DATE: 2024-09-14, ROOM: Room 101: Main Conference Room, PURPOSE LENGTH: 21, ROOM CAP: 50\n",
    "```"
   ]
  },
  {
   "cell_type": "code",
   "execution_count": 133,
   "metadata": {},
   "outputs": [
    {
     "name": "stdout",
     "output_type": "stream",
     "text": [
      "START DATE: 2024-08-18, ROOM: Room 101: Main Conference Room, PURPOSE LENGTH: 21, ROOM CAP: 50\n",
      "START DATE: 2024-08-19, ROOM: Room 202: Lecture Hall A, PURPOSE LENGTH: 19, ROOM CAP: 100\n",
      "START DATE: 2024-08-19, ROOM: Room 303: Executive Office, PURPOSE LENGTH: 22, ROOM CAP: 5\n",
      "START DATE: 2024-08-24, ROOM: Room 303: Executive Office, PURPOSE LENGTH: 25, ROOM CAP: 5\n",
      "START DATE: 2024-08-24, ROOM: Room 202: Lecture Hall A, PURPOSE LENGTH: 15, ROOM CAP: 100\n",
      "START DATE: 2024-08-26, ROOM: Room 202: Lecture Hall A, PURPOSE LENGTH: 12, ROOM CAP: 100\n",
      "START DATE: 2024-08-27, ROOM: Room 303: Executive Office, PURPOSE LENGTH: 21, ROOM CAP: 5\n",
      "START DATE: 2024-08-30, ROOM: Room 202: Lecture Hall A, PURPOSE LENGTH: 19, ROOM CAP: 100\n",
      "START DATE: 2024-08-30, ROOM: Room 303: Executive Office, PURPOSE LENGTH: 23, ROOM CAP: 5\n",
      "START DATE: 2024-09-02, ROOM: Room 202: Lecture Hall A, PURPOSE LENGTH: 21, ROOM CAP: 100\n",
      "START DATE: 2024-09-03, ROOM: Room 101: Main Conference Room, PURPOSE LENGTH: 24, ROOM CAP: 50\n",
      "START DATE: 2024-09-05, ROOM: Room 101: Main Conference Room, PURPOSE LENGTH: 23, ROOM CAP: 50\n",
      "START DATE: 2024-09-06, ROOM: Room 202: Lecture Hall A, PURPOSE LENGTH: 22, ROOM CAP: 100\n",
      "START DATE: 2024-09-07, ROOM: Room 202: Lecture Hall A, PURPOSE LENGTH: 18, ROOM CAP: 100\n",
      "START DATE: 2024-09-10, ROOM: Room 101: Main Conference Room, PURPOSE LENGTH: 22, ROOM CAP: 50\n",
      "START DATE: 2024-09-12, ROOM: Room 202: Lecture Hall A, PURPOSE LENGTH: 22, ROOM CAP: 100\n",
      "START DATE: 2024-09-13, ROOM: Room 202: Lecture Hall A, PURPOSE LENGTH: 14, ROOM CAP: 100\n",
      "START DATE: 2024-09-14, ROOM: Room 101: Main Conference Room, PURPOSE LENGTH: 21, ROOM CAP: 50\n"
     ]
    }
   ],
   "source": [
    "# CODE HERE\n",
    "for i in Booking.objects.annotate(purpose_len=Length(\"purpose\")).filter(Q(purpose_len__gt=20)| Q(room__capacity__gte=100)):\n",
    "    print(\"START DATE: %s, ROOM: Room %s: %s, PURPOSE LENGTH: %d, ROOM CAP: %d\"%(i.start_time.date(), i.room.number, i.room.name, i.purpose_len, i.room.capacity))"
   ]
  }
 ],
 "metadata": {
  "kernelspec": {
   "display_name": "Django Shell-Plus",
   "language": "python",
   "name": "django_extensions"
  },
  "language_info": {
   "codemirror_mode": {
    "name": "ipython",
    "version": 3
   },
   "file_extension": ".py",
   "mimetype": "text/x-python",
   "name": "python",
   "nbconvert_exporter": "python",
   "pygments_lexer": "ipython3",
   "version": "3.10.5"
  }
 },
 "nbformat": 4,
 "nbformat_minor": 2
}
