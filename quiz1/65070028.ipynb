{
 "cells": [
  {
   "cell_type": "markdown",
   "metadata": {},
   "source": [
    "# QUIZ - 2024-08"
   ]
  },
  {
   "cell_type": "code",
   "execution_count": 2,
   "metadata": {
    "vscode": {
     "languageId": "plaintext"
    }
   },
   "outputs": [],
   "source": [
    "import os\n",
    "os.environ[\"DJANGO_ALLOW_ASYNC_UNSAFE\"] = \"true\"\n",
    "from service.models import *\n",
    "from django.db.models import *\n",
    "from django.db.models.functions import *\n",
    "from django.db.models.lookups import *"
   ]
  },
  {
   "cell_type": "markdown",
   "metadata": {},
   "source": [
    "## PART 1 - CRUD Operations\n",
    "1.1 สร้างนัดหมาย (`Appointment`) ของลูกค้า \"Customer 1\" ซึ่งต้องการจองบริการ \"Haircut\" ของ \"Provider 2\"\n",
    "\n",
    "โดยสร้างนัดหมายในวันที่ 2024-10-01 เวลา 11:00 น. \n",
    "\n",
    "(0.5 คะแนน)\n",
    "\n",
    "*หมายเหตุ: จะต้อง get ข้อมูลมาโดยใช้การ query ด้วยชื่อตามที่โจทย์ว่าเท่านั้น ห้ามใช้ id ใน database*"
   ]
  },
  {
   "cell_type": "code",
   "execution_count": 67,
   "metadata": {
    "vscode": {
     "languageId": "plaintext"
    }
   },
   "outputs": [
    {
     "data": {
      "text/plain": [
       "<Appointment: Appointment of Customer 1 with Provider 2 on 2024-10-01 at 11:00:00>"
      ]
     },
     "execution_count": 67,
     "metadata": {},
     "output_type": "execute_result"
    }
   ],
   "source": [
    "# CODE HERE\n",
    "import datetime as dt\n",
    "customer = Customer.objects.get(name=\"Customer 1\")\n",
    "haircut_s = Service.objects.get(name=\"Haircut\", service_provider__name=\"Provider 2\")\n",
    "Appointment.objects.create(customer=customer, service=haircut_s, appointment_date=dt.date(2024, 10, 1), appointment_time=dt.time(11))"
   ]
  },
  {
   "cell_type": "code",
   "execution_count": 68,
   "metadata": {
    "vscode": {
     "languageId": "plaintext"
    }
   },
   "outputs": [
    {
     "name": "stdout",
     "output_type": "stream",
     "text": [
      "Appoint Date: 2024-10-01, Appoint Time: 11:00:00\n",
      "Service Name: Haircut, Provider Name: Provider 2, Customer Name: Customer 1\n"
     ]
    }
   ],
   "source": [
    "# Check result\n",
    "res = Appointment.objects.last()\n",
    "print(f\"Appoint Date: {res.appointment_date}, Appoint Time: {res.appointment_time}\")\n",
    "print(f\"Service Name: {res.service.name}, Provider Name: {res.service.service_provider.name}, Customer Name: {res.customer.name}\")"
   ]
  },
  {
   "cell_type": "markdown",
   "metadata": {},
   "source": [
    "1.2 ทำการแก้ไขนัดหมายที่เพิ่งสร้างใน 1.1 โดยเปลี่ยนวันที่จากวันที่ 2024-10-01 เป็น 2024-10-10 เวลาเดิม\n",
    "\n",
    "(0.25 คะแนน)"
   ]
  },
  {
   "cell_type": "code",
   "execution_count": 69,
   "metadata": {
    "vscode": {
     "languageId": "plaintext"
    }
   },
   "outputs": [],
   "source": [
    "# CODE HERE\n",
    "import datetime as dt\n",
    "appo = Appointment.objects.last()\n",
    "appo.appointment_date = dt.date(2024, 10, 10)\n",
    "appo.save()"
   ]
  },
  {
   "cell_type": "code",
   "execution_count": 70,
   "metadata": {
    "vscode": {
     "languageId": "plaintext"
    }
   },
   "outputs": [
    {
     "name": "stdout",
     "output_type": "stream",
     "text": [
      "Appoint Date: 2024-10-10, Appoint Time: 11:00:00\n",
      "Service Name: Haircut, Provider Name: Provider 2, Customer Name: Customer 1\n"
     ]
    }
   ],
   "source": [
    "# Check result\n",
    "res = Appointment.objects.last()\n",
    "print(f\"Appoint Date: {res.appointment_date}, Appoint Time: {res.appointment_time}\")\n",
    "print(f\"Service Name: {res.service.name}, Provider Name: {res.service.service_provider.name}, Customer Name: {res.customer.name}\")"
   ]
  },
  {
   "cell_type": "markdown",
   "metadata": {},
   "source": [
    "1.3 ทำการแก้ไขนัดหมาย ณ วันที่ 2024-08-14 ของ \"Customer 4\" โดยเปลี่ยนจากเดิมที่นัดมาให้บริการ \"Manicure\" ของ \"Provider 3\" เป็น \"Massage\" ของ \"Provider 4\" แทน\n",
    "\n",
    "(0.25 คะแนน)\n",
    "\n",
    "*หมายเหตุ: จะต้อง get ข้อมูลมาโดยใช้การ query ด้วยชื่อตามที่โจทย์ว่าเท่านั้น ห้ามใช้ id ใน database*"
   ]
  },
  {
   "cell_type": "code",
   "execution_count": 71,
   "metadata": {
    "vscode": {
     "languageId": "plaintext"
    }
   },
   "outputs": [],
   "source": [
    "# CODE HERE\n",
    "import datetime as dt\n",
    "appo = Appointment.objects.get(appointment_date=dt.date(2024, 8, 14), customer__name=\"Customer 4\")\n",
    "msa_provi = Service.objects.get(name=\"Massage\", service_provider__name=\"Provider 4\")\n",
    "\n",
    "appo.service = msa_provi\n",
    "appo.save()"
   ]
  },
  {
   "cell_type": "code",
   "execution_count": 72,
   "metadata": {
    "vscode": {
     "languageId": "plaintext"
    }
   },
   "outputs": [
    {
     "name": "stdout",
     "output_type": "stream",
     "text": [
      "Appoint Date: 2024-08-14, Appoint Time: 10:00:00\n",
      "Service Name: Massage, Provider Name: Provider 4, Customer Name: Customer 4\n"
     ]
    }
   ],
   "source": [
    "# Check result\n",
    "from datetime import date\n",
    "res = Appointment.objects.get(customer__name=\"Customer 4\", appointment_date=date(2024,8,14))\n",
    "print(f\"Appoint Date: {res.appointment_date}, Appoint Time: {res.appointment_time}\")\n",
    "print(f\"Service Name: {res.service.name}, Provider Name: {res.service.service_provider.name}, Customer Name: {res.customer.name}\")"
   ]
  },
  {
   "cell_type": "markdown",
   "metadata": {},
   "source": [
    "1.4 ทำตามขั้นตอนดังนี้\n",
    "\n",
    "1. สร้างหมวดหมู่บริการ (`ServiceCategory`) ใหม่ชื่อ \"Facial & Body Care\" และมีรายละเอียดว่า \"Services related to face & body care\" \n",
    "2. สร้าง บริการ (`Service`) ใหม่ดังนี้ \n",
    "\n",
    "    - Name: \"Face Massage\"\n",
    "    - Description: \"Special face massage!\"\n",
    "    - Price: 150.00\n",
    "    - โดยบริการนี้ให้บริการโดย \"Provider 1\" และ \"Provider 2\" (Hint: ดังนั้นต้องสร้าง 2 รายการ)\n",
    "\n",
    "3. เพิ่มบริการใหม่ทั้ง 2 รายการเข้าไปในหมวดหมู่ \"Facial & Body Care\"\n",
    "4. ทำการย้ายบริการ (`Service`) ในหมวดหมู่บริการ (`ServiceCategory`) \"Body Care\" ไปที่ หมวดหมู่ \"Facial & Body Care\" ที่สร้างขึ้นมาใหม่\n",
    "5. ทำการลบหมวดหมู่บริการ \"Body Care\"\n",
    "\n",
    "(1 คะแนน)"
   ]
  },
  {
   "cell_type": "code",
   "execution_count": 76,
   "metadata": {
    "vscode": {
     "languageId": "plaintext"
    }
   },
   "outputs": [
    {
     "data": {
      "text/plain": [
       "(6, {'service.ServiceCategory_services': 5, 'service.ServiceCategory': 1})"
      ]
     },
     "execution_count": 76,
     "metadata": {},
     "output_type": "execute_result"
    }
   ],
   "source": [
    "# CODE HERE\n",
    "fac_bc = ServiceCategory.objects.create(name=\"Facial & Body Care\", description=\"Services related to face & body care\")\n",
    "pv1 = ServiceProvider.objects.get(name=\"Provider 1\")\n",
    "pv2 = ServiceProvider.objects.get(name=\"Provider 2\")\n",
    "\n",
    "new_service_1 = Service.objects.create(name=\"Face Massage\", description=\"Special face massage!\", price=150, service_provider=pv1)\n",
    "new_service_2 = Service.objects.create(name=\"Face Massage\", description=\"Special face massage!\", price=150, service_provider=pv2)\n",
    "\n",
    "fac_bc.services.add(new_service_1, new_service_2)\n",
    "\n",
    "bc = ServiceCategory.objects.get(name=\"Body Care\")\n",
    "for i in bc.services.all():\n",
    "    fac_bc.services.add(i)\n",
    "bc.delete()"
   ]
  },
  {
   "cell_type": "code",
   "execution_count": 77,
   "metadata": {
    "vscode": {
     "languageId": "plaintext"
    }
   },
   "outputs": [
    {
     "data": {
      "text/plain": [
       "7"
      ]
     },
     "execution_count": 77,
     "metadata": {},
     "output_type": "execute_result"
    }
   ],
   "source": [
    "# Check result\n",
    "sc1 = ServiceCategory.objects.get(name=\"Facial & Body Care\")\n",
    "sc1.services.count()"
   ]
  },
  {
   "cell_type": "markdown",
   "metadata": {},
   "source": [
    "## PART 2 - Making Queries\n",
    "\n",
    "สำหรับ PART 2 ให้ทำการ reset DB และ import ข้อมูลใน `service.sql` เข้าไปใหม่"
   ]
  },
  {
   "cell_type": "markdown",
   "metadata": {},
   "source": [
    "2.1 ให้หาจำนวนนัดหมาย ที่ถูกสร้าง (`Appointment.created_at`) ในช่วงวันที่ 2024-08-01 ถึง 2024-08-02 \n",
    "\n",
    "(0.5 คะแนน)"
   ]
  },
  {
   "cell_type": "code",
   "execution_count": 10,
   "metadata": {},
   "outputs": [
    {
     "name": "stdout",
     "output_type": "stream",
     "text": [
      "8\n"
     ]
    }
   ],
   "source": [
    "# CODE HERE\n",
    "import datetime as dt\n",
    "ap = Appointment.objects.filter(created_at__year=2024, created_at__month=8, created_at__day__range=(1, 2))\n",
    "print(ap.count())"
   ]
  },
  {
   "cell_type": "markdown",
   "metadata": {},
   "source": [
    "2.2 ให้หาว่ามีบริการใด ของผู้ให้บริการไหนบ้าง ที่มีการนัดหมายท่ีมีการนัดหมาย (`Appointment.appoint_date`) ในช่วงวันที่ 2024-08-10 ถึง 2024-08-15\n",
    "\n",
    "(0.5 คะแนน)\n",
    "\n",
    "**Expected Output**\n",
    "\n",
    "```\n",
    "Name: Massage, Provider: Provider 1\n",
    "Name: Manicure, Provider: Provider 2\n",
    "Name: Manicure, Provider: Provider 2\n",
    "Name: Manicure, Provider: Provider 2\n",
    "Name: Massage, Provider: Provider 2\n",
    "Name: Manicure, Provider: Provider 3\n",
    "Name: Massage, Provider: Provider 3\n",
    "```"
   ]
  },
  {
   "cell_type": "code",
   "execution_count": 11,
   "metadata": {},
   "outputs": [
    {
     "name": "stdout",
     "output_type": "stream",
     "text": [
      "Name: Massage, Provider: Provider 1\n",
      "Name: Manicure, Provider: Provider 2\n",
      "Name: Manicure, Provider: Provider 2\n",
      "Name: Manicure, Provider: Provider 2\n",
      "Name: Massage, Provider: Provider 2\n",
      "Name: Manicure, Provider: Provider 3\n",
      "Name: Massage, Provider: Provider 3\n"
     ]
    }
   ],
   "source": [
    "# CODE HERE\n",
    "import datetime as dt\n",
    "ap = Appointment.objects.filter(appointment_date__year=2024, appointment_date__month=8, appointment_date__day__range=(10, 15)).order_by(\"service__service_provider__name\")\n",
    "for i in ap:\n",
    "    print(\"Name: %s, Provider: %s\"%(i.service.name, i.service.service_provider.name))"
   ]
  },
  {
   "cell_type": "markdown",
   "metadata": {},
   "source": [
    "2.3 ให้แสดงผลข้อมูลบริการ (`Service`) โดยเรียงลำดับตามราคา (`Service.price`) จากน้อยไปมาก ดังในตัวอย่าง\n",
    "\n",
    "```python\n",
    "[\n",
    "    {\n",
    "        \"price\": 100,\n",
    "        \"full_name\": \"Massage (Provider 1)\"\n",
    "    },\n",
    "    {\n",
    "        \"price\": 100,\n",
    "        \"full_name\": \"Massage (Provider 2)\"\n",
    "    },\n",
    "    {\n",
    "        \"price\": 100,\n",
    "        \"full_name\": \"Massage (Provider 3)\"\n",
    "    },\n",
    "    {\n",
    "        \"price\": 100,\n",
    "        \"full_name\": \"Massage (Provider 4)\"\n",
    "    },\n",
    "    {\n",
    "        \"price\": 30,\n",
    "        \"full_name\": \"Manicure (Provider 4)\"\n",
    "    },\n",
    "    {\n",
    "        \"price\": 30,\n",
    "        \"full_name\": \"Manicure (Provider 1)\"\n",
    "    },\n",
    "    {\n",
    "        \"price\": 30,\n",
    "        \"full_name\": \"Manicure (Provider 3)\"\n",
    "    },\n",
    "    {\n",
    "        \"price\": 30,\n",
    "        \"full_name\": \"Manicure (Provider 2)\"\n",
    "    },\n",
    "    {\n",
    "        \"price\": 20,\n",
    "        \"full_name\": \"Haircut (Provider 4)\"\n",
    "    },\n",
    "    {\n",
    "        \"price\": 20,\n",
    "        \"full_name\": \"Haircut (Provider 2)\"\n",
    "    },\n",
    "    {\n",
    "        \"price\": 20,\n",
    "        \"full_name\": \"Haircut (Provider 3)\"\n",
    "    },\n",
    "    {\n",
    "        \"price\": 20,\n",
    "        \"full_name\": \"Haircut (Provider 1)\"\n",
    "    }\n",
    "]\n",
    "```\n",
    "\n",
    "(0.5 คะแนน)\n",
    "\n",
    "*หมายเหตุ: จะต้องใช้ `annotate()` และ `values()` เท่านั้น การ loop และสร้าง dict เองจะไม่ได้คะแนน*\n",
    "\n",
    "Hint: อยาก print dictionary สวยๆ ใช้ json.dumps\n",
    "\n",
    "```python\n",
    "print(json.dumps(dictionary, indent=4, sort_keys=False))\n",
    "```"
   ]
  },
  {
   "cell_type": "code",
   "execution_count": 13,
   "metadata": {},
   "outputs": [
    {
     "name": "stdout",
     "output_type": "stream",
     "text": [
      "[\n",
      "    {\n",
      "        \"price\": 100,\n",
      "        \"full_name\": \"Massage (Provider 4)\"\n",
      "    },\n",
      "    {\n",
      "        \"price\": 100,\n",
      "        \"full_name\": \"Massage (Provider 2)\"\n",
      "    },\n",
      "    {\n",
      "        \"price\": 100,\n",
      "        \"full_name\": \"Massage (Provider 1)\"\n",
      "    },\n",
      "    {\n",
      "        \"price\": 100,\n",
      "        \"full_name\": \"Massage (Provider 3)\"\n",
      "    },\n",
      "    {\n",
      "        \"price\": 30,\n",
      "        \"full_name\": \"Manicure (Provider 3)\"\n",
      "    },\n",
      "    {\n",
      "        \"price\": 30,\n",
      "        \"full_name\": \"Manicure (Provider 1)\"\n",
      "    },\n",
      "    {\n",
      "        \"price\": 30,\n",
      "        \"full_name\": \"Manicure (Provider 4)\"\n",
      "    },\n",
      "    {\n",
      "        \"price\": 30,\n",
      "        \"full_name\": \"Manicure (Provider 2)\"\n",
      "    },\n",
      "    {\n",
      "        \"price\": 20,\n",
      "        \"full_name\": \"Haircut (Provider 3)\"\n",
      "    },\n",
      "    {\n",
      "        \"price\": 20,\n",
      "        \"full_name\": \"Haircut (Provider 2)\"\n",
      "    },\n",
      "    {\n",
      "        \"price\": 20,\n",
      "        \"full_name\": \"Haircut (Provider 1)\"\n",
      "    },\n",
      "    {\n",
      "        \"price\": 20,\n",
      "        \"full_name\": \"Haircut (Provider 4)\"\n",
      "    }\n",
      "]\n"
     ]
    }
   ],
   "source": [
    "# CODE HERE\n",
    "import json\n",
    "service = Service.objects.annotate(full_name=Concat(\"name\", Value(\" (\"), \"service_provider__name\", Value(\")\") ) ).order_by(\"-price\")\n",
    "print(json.dumps(list(service.values(\"price\", \"full_name\")),indent=4,sort_keys=False))"
   ]
  },
  {
   "cell_type": "markdown",
   "metadata": {},
   "source": [
    "2.4 ให้หาจำนวนนัดหมายของลูกค้าแต่ละคน\n",
    "\n",
    "(0.5 คะแนน)\n",
    "\n",
    "*หมายเหตุ: จะต้องใช้ `annotate()` และ `values()`*\n",
    "\n",
    "**Expected Output**\n",
    "\n",
    "```python\n",
    "Name: Customer 4, Total Appoinment: 3\n",
    "Name: Customer 2, Total Appoinment: 4\n",
    "Name: Customer 3, Total Appoinment: 3\n",
    "Name: Customer 1, Total Appoinment: 5\n",
    "```"
   ]
  },
  {
   "cell_type": "code",
   "execution_count": 14,
   "metadata": {
    "scrolled": true
   },
   "outputs": [
    {
     "name": "stdout",
     "output_type": "stream",
     "text": [
      "Name: Customer 3, Total Appoinment: 3\n",
      "Name: Customer 4, Total Appoinment: 3\n",
      "Name: Customer 2, Total Appoinment: 4\n",
      "Name: Customer 1, Total Appoinment: 5\n"
     ]
    }
   ],
   "source": [
    "# CODE HERE\n",
    "for i in Appointment.objects.values(\"customer\").annotate(total=Count(\"id\")):\n",
    "    print(\"Name: Customer %d, Total Appoinment: %d\"%(i['customer'], i['total']))"
   ]
  },
  {
   "cell_type": "markdown",
   "metadata": {},
   "source": [
    "2.5 ให้หาว่าผู้ให้บริการ (`ServiceProvider`) แต่ละคนนั้นได้เงินโดยรวมเท่าไหร่\n",
    "\n",
    "Hint: ดูจากนั้ดหมายว่ามีการนัดบริการ (`Appointment.service`) ของแต่ละผู้ให้บริการรวมเป็นยอดเงินเท่าไหร่\n",
    "\n",
    "*หมายเหตุ: ไม่จำเป็นต้องใช้ `annotate()` สามารถ loop ได้เต็มที่เลยครับ*\n",
    "\n",
    "**Expected Output**\n",
    "\n",
    "```python\n",
    "Name: Provider 4, Total Price: 20\n",
    "Name: Provider 2, Total Price: 210\n",
    "Name: Provider 3, Total Price: 130\n",
    "Name: Provider 1, Total Price: 410\n",
    "```"
   ]
  },
  {
   "cell_type": "code",
   "execution_count": 15,
   "metadata": {},
   "outputs": [
    {
     "name": "stdout",
     "output_type": "stream",
     "text": [
      "Name: Provider 3, Total Price: 130\n",
      "Name: Provider 4, Total Price: 20\n",
      "Name: Provider 2, Total Price: 210\n",
      "Name: Provider 1, Total Price: 410\n"
     ]
    }
   ],
   "source": [
    "# CODE HERE\n",
    "for i in Appointment.objects.values(\"service__service_provider__id\").annotate(total=Sum(\"service__price\")):\n",
    "    print(\"Name: Provider %d, Total Price: %d\"%(i['service__service_provider__id'], i['total']))"
   ]
  },
  {
   "cell_type": "markdown",
   "metadata": {},
   "source": [
    "2.6 ให้ดึงข้อมูลหมวดหมู่บริการโดยแปลงชื่อหมวดหมู่บริการ (`ServiceCategory.name`) เป็นตัวใหญ่ (uppercase) ทั้งหมด\n",
    "\n",
    "(0.5 คะแนน)\n",
    "\n",
    "**Expected Output**\n",
    "\n",
    "```python\n",
    "Name: Hair Care, Upper Name: HAIR CARE\n",
    "Name: Nail Care, Upper Name: NAIL CARE\n",
    "Name: Body Care, Upper Name: BODY CARE\n",
    "```"
   ]
  },
  {
   "cell_type": "code",
   "execution_count": 16,
   "metadata": {},
   "outputs": [
    {
     "name": "stdout",
     "output_type": "stream",
     "text": [
      "Name: Hair Care, Upper Name: HAIR CARE\n",
      "Name: Nail Care, Upper Name: NAIL CARE\n",
      "Name: Body Care, Upper Name: BODY CARE\n"
     ]
    }
   ],
   "source": [
    "# CODE HERE\n",
    "for i in ServiceCategory.objects.annotate(uppername=Upper(\"name\")):\n",
    "    print(\"Name: %s, Upper Name: %s\"%(i.name, i.uppername))"
   ]
  }
 ],
 "metadata": {
  "kernelspec": {
   "display_name": "Django Shell-Plus",
   "language": "python",
   "name": "django_extensions"
  },
  "language_info": {
   "codemirror_mode": {
    "name": "ipython",
    "version": 3
   },
   "file_extension": ".py",
   "mimetype": "text/x-python",
   "name": "python",
   "nbconvert_exporter": "python",
   "pygments_lexer": "ipython3",
   "version": "3.12.3"
  }
 },
 "nbformat": 4,
 "nbformat_minor": 2
}
