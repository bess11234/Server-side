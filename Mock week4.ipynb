{
 "cells": [
  {
   "cell_type": "code",
   "execution_count": 1,
   "id": "bb385867",
   "metadata": {},
   "outputs": [],
   "source": [
    "import os\n",
    "os.environ['DJANGO_ALLOW_ASYNC_UNSAFE'] = \"true\"\n",
    "\n",
    "# import modules\n",
    "from shop.models import *"
   ]
  },
  {
   "cell_type": "markdown",
   "id": "a625c485",
   "metadata": {},
   "source": [
    "1.1 query หาข้อมูล Order ทั้งหมดที่เกิดขึ้นในเดือน เมษายน มาแสดงผล 5 รายการแรก และแสดงผลดังตัวอย่าง \n",
    "\n",
    "ORDER ID:1, DATE: 2024-04-24, AMOUNT: 3\n",
    "ORDER ID:1, DATE: 2024-04-24, AMOUNT: 3\n",
    "ORDER ID:2, DATE: 2024-04-24, AMOUNT: 1\n",
    "ORDER ID:2, DATE: 2024-04-24, AMOUNT: 2\n",
    "ORDER ID:3, DATE: 2024-04-24, AMOUNT: 3\n"
   ]
  },
  {
   "cell_type": "code",
   "execution_count": 3,
   "id": "8fd8c603",
   "metadata": {},
   "outputs": [
    {
     "name": "stdout",
     "output_type": "stream",
     "text": [
      "ORDER ID: 1, DATE: 2024-04-24\n",
      "ORDER ID: 2, DATE: 2024-04-24\n",
      "ORDER ID: 3, DATE: 2024-04-24\n",
      "ORDER ID: 4, DATE: 2024-04-25\n",
      "ORDER ID: 5, DATE: 2024-04-25\n"
     ]
    }
   ],
   "source": []
  },
  {
   "cell_type": "markdown",
   "id": "c7016632",
   "metadata": {},
   "source": [
    "1.2 query หาข้อมูล Product ที่มีคำว่า Classic ในรายละเอียดสินค้า และแสดงผลดังตัวอย่าง\n",
    "\n",
    "PRODUCT ID:25, DESCRIPTION: Classic button-down shirt suitable for formal wear., AMOUNT: 428\n",
    "PRODUCT ID:44, DESCRIPTION: Classic board game of buying, trading, and strategy., AMOUNT: 90\n",
    "PRODUCT ID:47, DESCRIPTION: Classic block-stacking game for parties and gatherings., AMOUNT: 30\n",
    "PRODUCT ID:61, DESCRIPTION: Classic round-cut diamond earrings in 14k white gold., AMOUNT: 10\n"
   ]
  },
  {
   "cell_type": "code",
   "execution_count": 6,
   "id": "0cc61a63",
   "metadata": {
    "scrolled": false
   },
   "outputs": [
    {
     "name": "stdout",
     "output_type": "stream",
     "text": [
      "PRODUCT ID:25, DESCRIPTION:Classic button-down shirt suitable for formal wear.\n",
      "PRODUCT ID:44, DESCRIPTION:Classic board game of buying, trading, and strategy.\n",
      "PRODUCT ID:47, DESCRIPTION:Classic block-stacking game for parties and gatherings.\n",
      "PRODUCT ID:61, DESCRIPTION:Classic round-cut diamond earrings in 14k white gold.\n"
     ]
    }
   ],
   "source": []
  },
  {
   "cell_type": "markdown",
   "id": "9dee3571",
   "metadata": {},
   "source": [
    "1.3 หาข้อมูล Payment ที่มีราคามากกว่า 500.00 และน้อยกว่า 2000.00  มาแสดงผล 20 รายการแรก และแสดงผลดังตัวอย่าง\n",
    "\n",
    "PAYMENT ID:62, DATE: 2024-05-13, PRICE: 600.00\n",
    "PAYMENT ID:3, DATE: 2024-04-24, PRICE: 700.00\n",
    "PAYMENT ID:5, DATE: 2024-04-24, PRICE: 590.00\n",
    "PAYMENT ID:9, DATE: 2024-04-26, PRICE: 599.00\n",
    "PAYMENT ID:17, DATE: 2024-04-28, PRICE: 699.00\n",
    "PAYMENT ID:20, DATE: 2024-04-29, PRICE: 990.00\n",
    "PAYMENT ID:22, DATE: 2024-04-30, PRICE: 590.00\n",
    "PAYMENT ID:26, DATE: 2024-05-01, PRICE: 1720.00\n",
    "PAYMENT ID:29, DATE: 2024-05-02, PRICE: 1190.00\n",
    "PAYMENT ID:31, DATE: 2024-05-03, PRICE: 700.00\n",
    "PAYMENT ID:32, DATE: 2024-05-03, PRICE: 1690.00\n",
    "PAYMENT ID:34, DATE: 2024-05-04, PRICE: 1140.00\n",
    "PAYMENT ID:35, DATE: 2024-05-04, PRICE: 1299.00\n",
    "PAYMENT ID:40, DATE: 2024-05-06, PRICE: 540.00\n",
    "PAYMENT ID:41, DATE: 2024-05-06, PRICE: 1400.00\n",
    "PAYMENT ID:48, DATE: 2024-05-09, PRICE: 1040.00\n",
    "PAYMENT ID:50, DATE: 2024-05-09, PRICE: 1699.00\n",
    "PAYMENT ID:51, DATE: 2024-05-10, PRICE: 1649.00\n",
    "PAYMENT ID:53, DATE: 2024-05-10, PRICE: 1400.00\n",
    "PAYMENT ID:54, DATE: 2024-05-11, PRICE: 540.00\n"
   ]
  },
  {
   "cell_type": "code",
   "execution_count": 7,
   "id": "bc049010",
   "metadata": {},
   "outputs": [
    {
     "name": "stdout",
     "output_type": "stream",
     "text": [
      "PAYMENT ID:62, DATE: 2024-06-25, PRICE: 600.00\n",
      "PAYMENT ID:3, DATE: 2024-06-25, PRICE: 700.00\n",
      "PAYMENT ID:5, DATE: 2024-06-25, PRICE: 590.00\n",
      "PAYMENT ID:9, DATE: 2024-06-25, PRICE: 599.00\n",
      "PAYMENT ID:17, DATE: 2024-06-26, PRICE: 699.00\n",
      "PAYMENT ID:20, DATE: 2024-06-26, PRICE: 990.00\n",
      "PAYMENT ID:22, DATE: 2024-06-26, PRICE: 590.00\n",
      "PAYMENT ID:26, DATE: 2024-06-25, PRICE: 1720.00\n",
      "PAYMENT ID:29, DATE: 2024-06-25, PRICE: 1190.00\n",
      "PAYMENT ID:31, DATE: 2024-06-27, PRICE: 700.00\n",
      "PAYMENT ID:32, DATE: 2024-06-27, PRICE: 1690.00\n",
      "PAYMENT ID:34, DATE: 2024-06-26, PRICE: 1140.00\n",
      "PAYMENT ID:35, DATE: 2024-06-26, PRICE: 1299.00\n",
      "PAYMENT ID:40, DATE: 2024-06-25, PRICE: 540.00\n",
      "PAYMENT ID:41, DATE: 2024-06-25, PRICE: 1400.00\n",
      "PAYMENT ID:48, DATE: 2024-06-27, PRICE: 1040.00\n",
      "PAYMENT ID:50, DATE: 2024-06-26, PRICE: 1699.00\n",
      "PAYMENT ID:51, DATE: 2024-06-25, PRICE: 1649.00\n",
      "PAYMENT ID:53, DATE: 2024-06-26, PRICE: 1400.00\n",
      "PAYMENT ID:54, DATE: 2024-06-25, PRICE: 540.00\n"
     ]
    }
   ],
   "source": []
  },
  {
   "cell_type": "markdown",
   "id": "bf50bc52",
   "metadata": {},
   "source": [
    "1.4 ให้เพิ่มสินค้าใหม่จำนวน 3 รายการ \n",
    "\n",
    "สินค้าที่ 1\n",
    "ชื่อ: Physical Programming\n",
    "หมวดหมู่สินค้า: Books and Media\n",
    "จำนวนคงเหลือ: 5\n",
    "รายละเอียด: By Tanakit.\n",
    "ราคา: 990\n",
    "\n",
    "สินค้าที่ 2\n",
    "ชื่อ: Macbook Pro\n",
    "หมวดหมู่สินค้า: Information Technology และ Electronics\n",
    "จำนวนคงเหลือ: 100\n",
    "รายละเอียด: Game-changing graphics performance.\n",
    "ราคา: 52465\n",
    "\n",
    "สินค้าที่ 3\n",
    "ชื่อ: Sofa\n",
    "หมวดหมู่สินค้า: Furniture\n",
    "จำนวนคงเหลือ: 50\n",
    "รายละเอียดซ: Comfort seat.\n",
    "ราคา: 10990"
   ]
  },
  {
   "cell_type": "code",
   "execution_count": 15,
   "id": "b67ef498",
   "metadata": {},
   "outputs": [],
   "source": []
  },
  {
   "cell_type": "code",
   "execution_count": 16,
   "id": "5d7c338b",
   "metadata": {},
   "outputs": [],
   "source": []
  },
  {
   "cell_type": "code",
   "execution_count": 17,
   "id": "dab88fab",
   "metadata": {},
   "outputs": [],
   "source": []
  },
  {
   "cell_type": "markdown",
   "id": "292a8da5",
   "metadata": {},
   "source": [
    "1.5 แก้ไขชื่อสินค้า จาก Physical Programming เป็น Introduction to Computer System และ แก้ไขจำนวนสินค้า จาก 5 ชิ้นเป็น 150"
   ]
  },
  {
   "cell_type": "code",
   "execution_count": 19,
   "id": "f47717fb",
   "metadata": {},
   "outputs": [],
   "source": []
  },
  {
   "cell_type": "markdown",
   "id": "228a9db3",
   "metadata": {},
   "source": [
    "1.6 แก้ไขชื่อหมวดหมู่สินค้า จาก Clothing and Apparel เป็น Fashion"
   ]
  },
  {
   "cell_type": "code",
   "execution_count": 21,
   "id": "85fbac4d",
   "metadata": {},
   "outputs": [],
   "source": []
  },
  {
   "cell_type": "markdown",
   "id": "0b620335",
   "metadata": {},
   "source": [
    "1.7 ลบสินค้าทุกตัวที่อยู่ในหมวดหมู่ Furniture"
   ]
  },
  {
   "cell_type": "code",
   "execution_count": 22,
   "id": "acbc6506",
   "metadata": {},
   "outputs": [
    {
     "data": {
      "text/plain": [
       "(12, {'shop.Product_categories': 11, 'shop.ProductCategory': 1})"
      ]
     },
     "execution_count": 22,
     "metadata": {},
     "output_type": "execute_result"
    }
   ],
   "source": []
  },
  {
   "cell_type": "code",
   "execution_count": null,
   "id": "3278b1f3",
   "metadata": {},
   "outputs": [],
   "source": []
  }
 ],
 "metadata": {
  "kernelspec": {
   "display_name": "Django Shell-Plus",
   "language": "python",
   "name": "django_extensions"
  },
  "language_info": {
   "codemirror_mode": {
    "name": "ipython",
    "version": 3
   },
   "file_extension": ".py",
   "mimetype": "text/x-python",
   "name": "python",
   "nbconvert_exporter": "python",
   "pygments_lexer": "ipython3",
   "version": "3.11.3"
  }
 },
 "nbformat": 4,
 "nbformat_minor": 5
}
