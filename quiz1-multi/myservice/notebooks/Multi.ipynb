{
 "cells": [
  {
   "cell_type": "markdown",
   "metadata": {},
   "source": [
    "# QUIZ - 2024-08"
   ]
  },
  {
   "cell_type": "code",
   "execution_count": 1,
   "metadata": {},
   "outputs": [],
   "source": [
    "import os\n",
    "os.environ[\"DJANGO_ALLOW_ASYNC_UNSAFE\"] = \"true\"\n",
    "from django.db.models import *\n",
    "from django.db.models.functions import *\n",
    "from django.db.models.lookups import *\n",
    "from service.models import *"
   ]
  },
  {
   "cell_type": "markdown",
   "metadata": {},
   "source": [
    "## PART 1 - CRUD Operations\n",
    "1.1 สร้างบริการ (`Service`) รายละเอียดตามด้านล่าง และเพิ่มเข้าไปในหมวดหมู่ (`ServiceCategory`) ชื่อ \"Hair Care\"\n",
    "\n",
    "- Name: \"Hair Shower\"\n",
    "- Desciption: \"Cold hair shower\"\n",
    "- Price: 100 (Provider 1) และ 200 (Provider 2)\n",
    "- Service Provider: \"Provider 1\" และ \"Provider 2\"\n",
    "\n",
    "*Hint: ดังนั้นต้องสร้าง 2 แถวในตาราง `Service`*\n",
    "\n",
    "\n",
    "(0.5 คะแนน)\n",
    "\n",
    "*หมายเหตุ: จะต้อง get ข้อมูลมาโดยใช้การ query ด้วยชื่อตามที่โจทย์ว่าเท่านั้น ห้ามใช้ id ใน database*"
   ]
  },
  {
   "cell_type": "code",
   "execution_count": 6,
   "metadata": {},
   "outputs": [],
   "source": [
    "# CODE HERE\n",
    "hc = ServiceCategory.objects.get(name=\"Hair Care\")\n",
    "provi1 = ServiceProvider.objects.get(name=\"Provider 1\")\n",
    "provi2 = ServiceProvider.objects.get(name=\"Provider 2\")\n",
    "\n",
    "s1 = Service.objects.create(name=\"Hair Shower\", description=\"Cold hair shower\", price=100, service_provider=provi1)\n",
    "s2 = Service.objects.create(name=\"Hair Shower\", description=\"Cold hair shower\", price=200, service_provider=provi2)\n",
    "hc.services.add(s1,s2)"
   ]
  },
  {
   "cell_type": "code",
   "execution_count": 7,
   "metadata": {},
   "outputs": [
    {
     "data": {
      "text/plain": [
       "6"
      ]
     },
     "execution_count": 7,
     "metadata": {},
     "output_type": "execute_result"
    }
   ],
   "source": [
    "# Check result\n",
    "cat = ServiceCategory.objects.first()\n",
    "cat.services.count()"
   ]
  },
  {
   "cell_type": "markdown",
   "metadata": {},
   "source": [
    "1.2 ทำการแก้ไขราคาของ \"Hair Shower\" ของ \"Provider 1\" จาก 100 เป็น 300\n",
    "\n",
    "(0.25 คะแนน)"
   ]
  },
  {
   "cell_type": "code",
   "execution_count": 9,
   "metadata": {},
   "outputs": [],
   "source": [
    "# CODE HERE\n",
    "hs = Service.objects.get(name=\"Hair Shower\", service_provider__name=\"Provider 1\")\n",
    "hs.price = 300\n",
    "hs.save()"
   ]
  },
  {
   "cell_type": "code",
   "execution_count": 10,
   "metadata": {},
   "outputs": [
    {
     "name": "stdout",
     "output_type": "stream",
     "text": [
      "Service Name: Hair Shower, Provider Name: Provider 2, Price: 200\n",
      "Service Name: Hair Shower, Provider Name: Provider 1, Price: 300\n"
     ]
    }
   ],
   "source": [
    "# Check result\n",
    "services = Service.objects.filter(name=\"Hair Shower\")\n",
    "for service in services:\n",
    "    print(f\"Service Name: {service.name}, Provider Name: {service.service_provider.name}, Price: {service.price}\")"
   ]
  },
  {
   "cell_type": "markdown",
   "metadata": {},
   "source": [
    "1.3 ทำการแก้ไขนัดหมาย ณ วันที่ 2024-08-15 โดยเปลี่ยนจากเดิมที่นัดมาให้บริการ \"Massage\" ของ \"Provider 3\" เป็น \"Hair Shower\" ของ \"Provider 1\" แทน และทำการเลื่อนวันที่นัดหมายจาก 2024-08-15 เป็น 2024-08-18\n",
    "\n",
    "(0.25 คะแนน)\n",
    "\n",
    "*หมายเหตุ: จะต้อง get ข้อมูลมาโดยใช้การ query ด้วยชื่อตามที่โจทย์ว่าเท่านั้น ห้ามใช้ id ใน database*"
   ]
  },
  {
   "cell_type": "code",
   "execution_count": 14,
   "metadata": {},
   "outputs": [],
   "source": [
    "# CODE HERE\n",
    "import datetime as dt\n",
    "appoint = Appointment.objects.get(appointment_date=dt.date(2024, 8, 15), service__name=\"Massage\", service__service_provider__name=\"Provider 3\")\n",
    "serv = Service.objects.get(name=\"Hair Shower\", service_provider__name=\"Provider 1\")\n",
    "appoint.service = serv\n",
    "appoint.appointment_date = dt.date(2024, 8, 18)\n",
    "appoint.save()"
   ]
  },
  {
   "cell_type": "code",
   "execution_count": 15,
   "metadata": {},
   "outputs": [
    {
     "name": "stdout",
     "output_type": "stream",
     "text": [
      "Appoint Date: 2024-08-18, Appoint Time: 11:30:00\n",
      "Service Name: Hair Shower, Provider Name: Provider 1, Customer Name: Customer 1\n"
     ]
    }
   ],
   "source": [
    "# Check result\n",
    "res = Appointment.objects.order_by(\"-appointment_date\").first()\n",
    "print(f\"Appoint Date: {res.appointment_date}, Appoint Time: {res.appointment_time}\")\n",
    "print(f\"Service Name: {res.service.name}, Provider Name: {res.service.service_provider.name}, Customer Name: {res.customer.name}\")"
   ]
  },
  {
   "cell_type": "markdown",
   "metadata": {},
   "source": [
    "1.4 ทำตามขั้นตอนดังนี้\n",
    "\n",
    "1. สร้างผู้ให้บริการ (`ServiceProvider`) ชื่อ \"Super Provider\" ขึ้นมา (email: super@gmail.com, phone: 089-999-9999) และทำการเพิ่มบริการ (`Service`) ให้กับผู้ให้บริการนี้ (เทพมากสามารถทำได้ทุกบริการ) โดยทุกบริการราคาเท่ากับ 500 บาท\n",
    "\n",
    "(1 คะแนน)"
   ]
  },
  {
   "cell_type": "code",
   "execution_count": 21,
   "metadata": {},
   "outputs": [],
   "source": [
    "# CODE HERE\n",
    "super_pro = ServiceProvider.objects.create(name=\"Super Provider\", email=\"super@gmail.com\", phone=\"089-999-9999\")\n",
    "for i in Service.objects.distinct(\"name\").values_list(\"name\", flat=True):\n",
    "    Service.objects.create(name=i, price=500, service_provider=super_pro)"
   ]
  },
  {
   "cell_type": "code",
   "execution_count": 22,
   "metadata": {},
   "outputs": [
    {
     "name": "stdout",
     "output_type": "stream",
     "text": [
      "Service Name: Hair Shower, Price: 500, Provider: Super Provider\n",
      "Service Name: Haircut, Price: 500, Provider: Super Provider\n",
      "Service Name: Manicure, Price: 500, Provider: Super Provider\n",
      "Service Name: Massage, Price: 500, Provider: Super Provider\n"
     ]
    }
   ],
   "source": [
    "# Check result\n",
    "for s in Service.objects.filter(service_provider__name=\"Super Provider\"):\n",
    "    print(f\"Service Name: {s.name}, Price: {s.price}, Provider: {s.service_provider.name}\")"
   ]
  },
  {
   "cell_type": "markdown",
   "metadata": {},
   "source": [
    "## PART 2 - Making Queries\n",
    "\n",
    "สำหรับ PART 2 ให้ทำการ reset DB และ import ข้อมูลใน `service.sql` เข้าไปใหม่"
   ]
  },
  {
   "cell_type": "markdown",
   "metadata": {},
   "source": [
    "2.1 ให้หาจำนวนนัดหมาย ที่นัดหมาย (`Appointment.appointment_date`) ในช่วงวันที่ 2024-08-05 ถึง 2024-08-10 ของ \"Service Provider 1\"\n",
    "\n",
    "**Expected Output**\n",
    "\n",
    "จะต้องมี 5 รายการ\n",
    "\n",
    "(0.5 คะแนน)"
   ]
  },
  {
   "cell_type": "code",
   "execution_count": 7,
   "metadata": {},
   "outputs": [
    {
     "data": {
      "text/plain": [
       "5"
      ]
     },
     "execution_count": 7,
     "metadata": {},
     "output_type": "execute_result"
    }
   ],
   "source": [
    "# CODE HERE\n",
    "import datetime as dt\n",
    "Appointment.objects.filter(appointment_date__range=(dt.date(2024, 8, 5), dt.date(2024, 8, 10)), service__service_provider__name=\"Provider 1\").count()"
   ]
  },
  {
   "cell_type": "markdown",
   "metadata": {},
   "source": [
    "2.2 ให้หาว่ามีบริการใด ของผู้ให้บริการไหนบ้าง ที่มีการนัดหมายที่ถูกสร้าง (`Appointment.created_at`) ในช่วงวันที่ 2024-08-01 ถึง 2024-08-02\n",
    "\n",
    "(0.5 คะแนน)\n",
    "\n",
    "**Expected Output**\n",
    "\n",
    "```\n",
    "Name: Haircut, Provider: Provider 1\n",
    "Name: Manicure, Provider: Provider 1\n",
    "Name: Massage, Provider: Provider 1\n",
    "Name: Manicure, Provider: Provider 2\n",
    "```"
   ]
  },
  {
   "cell_type": "code",
   "execution_count": 25,
   "metadata": {},
   "outputs": [
    {
     "name": "stdout",
     "output_type": "stream",
     "text": [
      "Name: Haircut, Provider: Provider 1\n",
      "Name: Haircut, Provider: Provider 2\n",
      "Name: Haircut, Provider: Provider 4\n",
      "Name: Manicure, Provider: Provider 1\n",
      "Name: Manicure, Provider: Provider 2\n",
      "Name: Manicure, Provider: Provider 3\n",
      "Name: Massage, Provider: Provider 1\n",
      "Name: Massage, Provider: Provider 2\n"
     ]
    }
   ],
   "source": [
    "# CODE HERE\n",
    "import datetime as dt\n",
    "for i in Appointment.objects.filter(created_at__year=2024, created_at__month=8, created_at__day__range=(1, 2)).values(\"service__name\", \"service__service_provider__name\").distinct(\"service__name\", \"service__service_provider__name\"):\n",
    "    print(\"Name: %s, Provider: %s\"%(i['service__name'], i['service__service_provider__name']))"
   ]
  },
  {
   "cell_type": "markdown",
   "metadata": {},
   "source": [
    "2.3 ให้แสดงผลข้อมูลลูกค้า (`Customer`) ดังในตัวอย่าง\n",
    "\n",
    "```python\n",
    "[\n",
    "    {\n",
    "        \"name\": \"Customer 4\",\n",
    "        \"phone\": \"123-456-7893\",\n",
    "        \"appointment_num\": 3\n",
    "    },\n",
    "    {\n",
    "        \"name\": \"Customer 2\",\n",
    "        \"phone\": \"123-456-7891\",\n",
    "        \"appointment_num\": 4\n",
    "    },\n",
    "    {\n",
    "        \"name\": \"Customer 3\",\n",
    "        \"phone\": \"123-456-7892\",\n",
    "        \"appointment_num\": 3\n",
    "    },\n",
    "    {\n",
    "        \"name\": \"Customer 1\",\n",
    "        \"phone\": \"123-456-7890\",\n",
    "        \"appointment_num\": 5\n",
    "    }\n",
    "]\n",
    "```\n",
    "\n",
    "(0.5 คะแนน)\n",
    "\n",
    "*หมายเหตุ: จะต้องใช้ `annotate()` และ `values()` เท่านั้น การ loop และสร้าง dict เองจะไม่ได้คะแนน*\n",
    "\n",
    "Hint: อยาก print dictionary สวยๆ ใช้ json.dumps\n",
    "\n",
    "```python\n",
    "print(json.dumps(dictionary, indent=4, sort_keys=False))\n",
    "```"
   ]
  },
  {
   "cell_type": "code",
   "execution_count": 34,
   "metadata": {},
   "outputs": [
    {
     "name": "stdout",
     "output_type": "stream",
     "text": [
      "[\n",
      "    {\n",
      "        \"name\": \"Customer 4\",\n",
      "        \"phone\": \"123-456-7893\",\n",
      "        \"appointment_num\": 3\n",
      "    },\n",
      "    {\n",
      "        \"name\": \"Customer 3\",\n",
      "        \"phone\": \"123-456-7892\",\n",
      "        \"appointment_num\": 3\n",
      "    },\n",
      "    {\n",
      "        \"name\": \"Customer 2\",\n",
      "        \"phone\": \"123-456-7891\",\n",
      "        \"appointment_num\": 4\n",
      "    },\n",
      "    {\n",
      "        \"name\": \"Customer 1\",\n",
      "        \"phone\": \"123-456-7890\",\n",
      "        \"appointment_num\": 5\n",
      "    }\n",
      "]\n"
     ]
    }
   ],
   "source": [
    "# CODE HERE\n",
    "import json\n",
    "print(json.dumps(list(Customer.objects.values(\"name\", \"phone\").annotate(appointment_num=Count(\"appointment\")).order_by(\"-name\")), indent=4, sort_keys=False))"
   ]
  },
  {
   "cell_type": "markdown",
   "metadata": {},
   "source": [
    "2.4 ให้แสดงข้อมูลผู้ให้บริการ (`ServiceProvider`) ดังนี้\n",
    "\n",
    "*หมายเหตุ: Appointment Num หมายถึงจำนวนนัดหมายที่ผู้ให้บริการนั้นมีการได้รับนัด และ Appointed Service หมายถึงบริการที่มีการนัดหมายของผู้ให้บริการนั้นๆ*\n",
    "\n",
    "(1 คะแนน)\n",
    "\n",
    "**Expected Output**\n",
    "\n",
    "```python\n",
    "Name: Provider 1, Appointment Num: 7, Appointed Services: Haircut, Manicure, Massage, Manicure, Manicure, Massage, Massage\n",
    "Name: Provider 2, Appointment Num: 5, Appointed Services: Haircut, Manicure, Massage, Manicure, Manicure\n",
    "Name: Provider 3, Appointment Num: 2, Appointed Services: Manicure, Massage\n",
    "Name: Provider 4, Appointment Num: 1, Appointed Services: Haircut\n",
    "```"
   ]
  },
  {
   "cell_type": "code",
   "execution_count": 52,
   "metadata": {
    "scrolled": true
   },
   "outputs": [
    {
     "name": "stdout",
     "output_type": "stream",
     "text": [
      "Name: Provider 1, Appointment Num: 7, Appointed Services: Haircut, Manicure, Manicure, Manicure, Massage, Massage, Massage\n",
      "Name: Provider 2, Appointment Num: 5, Appointed Services: Haircut, Manicure, Manicure, Manicure, Massage\n",
      "Name: Provider 3, Appointment Num: 2, Appointed Services: Manicure, Massage\n",
      "Name: Provider 4, Appointment Num: 1, Appointed Services: Haircut\n"
     ]
    }
   ],
   "source": [
    "# CODE HERE\n",
    "for i in ServiceProvider.objects.values(\"name\").annotate(appointment_num=Count(\"service__appointment\")).order_by(\"name\"):\n",
    "    print(\"Name: %s, Appointment Num: %d, Appointed Services: \"%(i['name'], i['appointment_num']), end=\"\")\n",
    "    print(*Appointment.objects.filter(service__service_provider__name=i['name']).values_list(\"service__name\", flat=True), sep=\", \")"
   ]
  },
  {
   "cell_type": "markdown",
   "metadata": {},
   "source": [
    "2.5 ให้หาว่าบริการ (`Service`) ไหนของผู้บริการไหนได้รับความนิยมสูงสุด (มีจำนวนนัดหมายมากที่สุด) และ นิยมน้อยที่สุด (มีจำนวนนัดหมายน้อยที่สุด)\n",
    "\n",
    "(0.5 คะแนน)\n",
    "\n",
    "**Expected Output**\n",
    "\n",
    "```python\n",
    "Name: Manicure, Provider: Provider 1, Appointment Num: 3\n",
    "Name: Massage, Provider: Provider 1, Appointment Num: 3\n",
    "Name: Manicure, Provider: Provider 2, Appointment Num: 3\n",
    "Name: Massage, Provider: Provider 3, Appointment Num: 1\n",
    "Name: Haircut, Provider: Provider 1, Appointment Num: 1\n",
    "Name: Massage, Provider: Provider 2, Appointment Num: 1\n",
    "Name: Manicure, Provider: Provider 3, Appointment Num: 1\n",
    "Name: Haircut, Provider: Provider 4, Appointment Num: 1\n",
    "Name: Haircut, Provider: Provider 2, Appointment Num: 1\n",
    "Name: Massage, Provider: Provider 4, Appointment Num: 0\n",
    "Name: Manicure, Provider: Provider 4, Appointment Num: 0\n",
    "Name: Haircut, Provider: Provider 3, Appointment Num: 0\n",
    "```"
   ]
  },
  {
   "cell_type": "code",
   "execution_count": 54,
   "metadata": {
    "scrolled": true
   },
   "outputs": [
    {
     "name": "stdout",
     "output_type": "stream",
     "text": [
      "Name: Massage, Provider: Provider 1, Appointment Num: 3\n",
      "Name: Manicure, Provider: Provider 2, Appointment Num: 3\n",
      "Name: Manicure, Provider: Provider 1, Appointment Num: 3\n",
      "Name: Manicure, Provider: Provider 3, Appointment Num: 1\n",
      "Name: Haircut, Provider: Provider 1, Appointment Num: 1\n",
      "Name: Massage, Provider: Provider 3, Appointment Num: 1\n",
      "Name: Haircut, Provider: Provider 4, Appointment Num: 1\n",
      "Name: Haircut, Provider: Provider 2, Appointment Num: 1\n",
      "Name: Massage, Provider: Provider 2, Appointment Num: 1\n",
      "Name: Manicure, Provider: Provider 4, Appointment Num: 0\n",
      "Name: Haircut, Provider: Provider 3, Appointment Num: 0\n",
      "Name: Massage, Provider: Provider 4, Appointment Num: 0\n"
     ]
    }
   ],
   "source": [
    "# CODE HERE\n",
    "for i in Service.objects.values(\"name\", \"service_provider__name\").annotate(appoint_num=Count(\"appointment\")).order_by(\"-appoint_num\"):\n",
    "    print(\"Name: %s, Provider: %s, Appointment Num: %d\"%(i['name'], i['service_provider__name'], i['appoint_num']))"
   ]
  },
  {
   "cell_type": "markdown",
   "metadata": {},
   "source": [
    "2.6 ให้ดึงข้อมูลหมวดหมู่บริการโดยแปลงชื่อบริการ (`Service.name`) เป็นตัวใหญ่ (uppercase) และราคา (`Service.price`) เป็น 2 เท่า และเรียงลำดับตามราคา\n",
    "\n",
    "(0.5 คะแนน)\n",
    "\n",
    "**Expected Output**\n",
    "\n",
    "```python\n",
    "Name: HAIRCUT, Provider: Provider 1, New Price: $40\n",
    "Name: MANICURE, Provider: Provider 1, New Price: $60\n",
    "Name: MASSAGE, Provider: Provider 1, New Price: $200\n",
    "Name: HAIRCUT, Provider: Provider 2, New Price: $40\n",
    "Name: MANICURE, Provider: Provider 2, New Price: $60\n",
    "Name: MASSAGE, Provider: Provider 2, New Price: $200\n",
    "Name: HAIRCUT, Provider: Provider 3, New Price: $40\n",
    "Name: MANICURE, Provider: Provider 3, New Price: $60\n",
    "Name: MASSAGE, Provider: Provider 3, New Price: $200\n",
    "Name: HAIRCUT, Provider: Provider 4, New Price: $40\n",
    "Name: MANICURE, Provider: Provider 4, New Price: $60\n",
    "Name: MASSAGE, Provider: Provider 4, New Price: $200\n",
    "```"
   ]
  },
  {
   "cell_type": "code",
   "execution_count": 56,
   "metadata": {},
   "outputs": [
    {
     "name": "stdout",
     "output_type": "stream",
     "text": [
      "Haircut by Provider 1\n",
      "Manicure by Provider 1\n",
      "Massage by Provider 1\n",
      "Haircut by Provider 2\n",
      "Manicure by Provider 2\n",
      "Massage by Provider 2\n",
      "Haircut by Provider 3\n",
      "Manicure by Provider 3\n",
      "Massage by Provider 3\n",
      "Haircut by Provider 4\n",
      "Manicure by Provider 4\n",
      "Massage by Provider 4\n"
     ]
    }
   ],
   "source": [
    "# CODE HERE\n",
    "for i in Service.objects.annotate(new_name=Upper(\"name\")).annotate(new_price=F(\"price\")*2):\n",
    "    print(i)"
   ]
  },
  {
   "cell_type": "code",
   "execution_count": null,
   "metadata": {},
   "outputs": [],
   "source": []
  }
 ],
 "metadata": {
  "kernelspec": {
   "display_name": "Django Shell-Plus",
   "language": "python",
   "name": "django_extensions"
  },
  "language_info": {
   "codemirror_mode": {
    "name": "ipython",
    "version": 3
   },
   "file_extension": ".py",
   "mimetype": "text/x-python",
   "name": "python",
   "nbconvert_exporter": "python",
   "pygments_lexer": "ipython3",
   "version": "3.10.5"
  }
 },
 "nbformat": 4,
 "nbformat_minor": 2
}
