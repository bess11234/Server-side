{
 "cells": [
  {
   "cell_type": "markdown",
   "id": "cd7d24df",
   "metadata": {},
   "source": [
    "# **หมายเหตุ: รบกวนรี database ถ้าอยากได้ข้อมูลตรง**"
   ]
  },
  {
   "cell_type": "code",
   "execution_count": 9,
   "id": "6a5941a4",
   "metadata": {},
   "outputs": [],
   "source": [
    "import os\n",
    "os.environ['DJANGO_ALLOW_ASYNC_UNSAFE'] = \"true\"\n",
    "\n",
    "# import modules\n",
    "from shop.models import *\n",
    "from django.db.models import *\n",
    "from django.db.models.functions import *"
   ]
  },
  {
   "cell_type": "markdown",
   "id": "6dd0e302",
   "metadata": {},
   "source": [
    "### 1. annotate()\n",
    "1.1 ให้ค้นหาข้อมูล `Product` โดยให้เพิ่ม field ราคารวมทั้งหมดของสินค้า โดยกำหนดให้ชื่อ field ว่า \"total_price\" โดยใช้แสดงข้อมูล 5 ตัวแรกเรียงตาม \"total_price\" จากมากไปน้อย\n",
    "\n",
    "**หมายเหตุ: จะต้องใช้ annotate() ให้เอา `Product.price` * `Product.remaining_amount`**\n",
    "\n",
    "ตัวอย่าง Output\n",
    "\n",
    "```\n",
    "ID: 61, PRICE: 320000.00, AMOUNT: 10, TOTAL PRICE: 3200000.00\n",
    "ID: 65, PRICE: 1200000.00, AMOUNT: 2, TOTAL PRICE: 2400000.00\n",
    "ID: 62, PRICE: 70000.00, AMOUNT: 15, TOTAL PRICE: 1050000.00\n",
    "ID: 63, PRICE: 59000.00, AMOUNT: 12, TOTAL PRICE: 708000.00\n",
    "ID: 14, PRICE: 18900.00, AMOUNT: 30, TOTAL PRICE: 567000.00\n",
    "```"
   ]
  },
  {
   "cell_type": "code",
   "execution_count": 10,
   "id": "2c5711fa",
   "metadata": {},
   "outputs": [
    {
     "ename": "AttributeError",
     "evalue": "'CombinedExpression' object has no attribute 'split'",
     "output_type": "error",
     "traceback": [
      "\u001b[1;31m---------------------------------------------------------------------------\u001b[0m",
      "\u001b[1;31mAttributeError\u001b[0m                            Traceback (most recent call last)",
      "Cell \u001b[1;32mIn[10], line 1\u001b[0m\n\u001b[1;32m----> 1\u001b[0m \u001b[38;5;28;01mfor\u001b[39;00m i \u001b[38;5;129;01min\u001b[39;00m \u001b[43mProduct\u001b[49m\u001b[38;5;241;43m.\u001b[39;49m\u001b[43mobjects\u001b[49m\u001b[38;5;241;43m.\u001b[39;49m\u001b[43mannotate\u001b[49m\u001b[43m(\u001b[49m\u001b[43mtotal\u001b[49m\u001b[38;5;241;43m=\u001b[39;49m\u001b[43mF\u001b[49m\u001b[43m(\u001b[49m\u001b[38;5;124;43m\"\u001b[39;49m\u001b[38;5;124;43mprice\u001b[39;49m\u001b[38;5;124;43m\"\u001b[39;49m\u001b[38;5;241;43m*\u001b[39;49m\u001b[43mF\u001b[49m\u001b[43m(\u001b[49m\u001b[38;5;124;43m\"\u001b[39;49m\u001b[38;5;124;43mremaining_amount\u001b[39;49m\u001b[38;5;124;43m\"\u001b[39;49m\u001b[43m)\u001b[49m\u001b[43m)\u001b[49m\u001b[43m)\u001b[49m:\n\u001b[0;32m      2\u001b[0m     \u001b[38;5;28mprint\u001b[39m(i)\n",
      "File \u001b[1;32mD:\\Video\\KMITL\\Year3\\Server-side\\week5\\myvenv\\lib\\site-packages\\django\\db\\models\\manager.py:87\u001b[0m, in \u001b[0;36mBaseManager._get_queryset_methods.<locals>.create_method.<locals>.manager_method\u001b[1;34m(self, *args, **kwargs)\u001b[0m\n\u001b[0;32m     85\u001b[0m \u001b[38;5;129m@wraps\u001b[39m(method)\n\u001b[0;32m     86\u001b[0m \u001b[38;5;28;01mdef\u001b[39;00m \u001b[38;5;21mmanager_method\u001b[39m(\u001b[38;5;28mself\u001b[39m, \u001b[38;5;241m*\u001b[39margs, \u001b[38;5;241m*\u001b[39m\u001b[38;5;241m*\u001b[39mkwargs):\n\u001b[1;32m---> 87\u001b[0m     \u001b[38;5;28;01mreturn\u001b[39;00m \u001b[38;5;28mgetattr\u001b[39m(\u001b[38;5;28mself\u001b[39m\u001b[38;5;241m.\u001b[39mget_queryset(), name)(\u001b[38;5;241m*\u001b[39margs, \u001b[38;5;241m*\u001b[39m\u001b[38;5;241m*\u001b[39mkwargs)\n",
      "File \u001b[1;32mD:\\Video\\KMITL\\Year3\\Server-side\\week5\\myvenv\\lib\\site-packages\\django\\db\\models\\query.py:1630\u001b[0m, in \u001b[0;36mQuerySet.annotate\u001b[1;34m(self, *args, **kwargs)\u001b[0m\n\u001b[0;32m   1625\u001b[0m \u001b[38;5;250m\u001b[39m\u001b[38;5;124;03m\"\"\"\u001b[39;00m\n\u001b[0;32m   1626\u001b[0m \u001b[38;5;124;03mReturn a query set in which the returned objects have been annotated\u001b[39;00m\n\u001b[0;32m   1627\u001b[0m \u001b[38;5;124;03mwith extra data or aggregations.\u001b[39;00m\n\u001b[0;32m   1628\u001b[0m \u001b[38;5;124;03m\"\"\"\u001b[39;00m\n\u001b[0;32m   1629\u001b[0m \u001b[38;5;28mself\u001b[39m\u001b[38;5;241m.\u001b[39m_not_support_combined_queries(\u001b[38;5;124m\"\u001b[39m\u001b[38;5;124mannotate\u001b[39m\u001b[38;5;124m\"\u001b[39m)\n\u001b[1;32m-> 1630\u001b[0m \u001b[38;5;28;01mreturn\u001b[39;00m \u001b[38;5;28;43mself\u001b[39;49m\u001b[38;5;241;43m.\u001b[39;49m\u001b[43m_annotate\u001b[49m\u001b[43m(\u001b[49m\u001b[43margs\u001b[49m\u001b[43m,\u001b[49m\u001b[43m \u001b[49m\u001b[43mkwargs\u001b[49m\u001b[43m,\u001b[49m\u001b[43m \u001b[49m\u001b[43mselect\u001b[49m\u001b[38;5;241;43m=\u001b[39;49m\u001b[38;5;28;43;01mTrue\u001b[39;49;00m\u001b[43m)\u001b[49m\n",
      "File \u001b[1;32mD:\\Video\\KMITL\\Year3\\Server-side\\week5\\myvenv\\lib\\site-packages\\django\\db\\models\\query.py:1680\u001b[0m, in \u001b[0;36mQuerySet._annotate\u001b[1;34m(self, args, kwargs, select)\u001b[0m\n\u001b[0;32m   1678\u001b[0m         clone\u001b[38;5;241m.\u001b[39mquery\u001b[38;5;241m.\u001b[39madd_filtered_relation(annotation, alias)\n\u001b[0;32m   1679\u001b[0m     \u001b[38;5;28;01melse\u001b[39;00m:\n\u001b[1;32m-> 1680\u001b[0m         \u001b[43mclone\u001b[49m\u001b[38;5;241;43m.\u001b[39;49m\u001b[43mquery\u001b[49m\u001b[38;5;241;43m.\u001b[39;49m\u001b[43madd_annotation\u001b[49m\u001b[43m(\u001b[49m\n\u001b[0;32m   1681\u001b[0m \u001b[43m            \u001b[49m\u001b[43mannotation\u001b[49m\u001b[43m,\u001b[49m\n\u001b[0;32m   1682\u001b[0m \u001b[43m            \u001b[49m\u001b[43malias\u001b[49m\u001b[43m,\u001b[49m\n\u001b[0;32m   1683\u001b[0m \u001b[43m            \u001b[49m\u001b[43mselect\u001b[49m\u001b[38;5;241;43m=\u001b[39;49m\u001b[43mselect\u001b[49m\u001b[43m,\u001b[49m\n\u001b[0;32m   1684\u001b[0m \u001b[43m        \u001b[49m\u001b[43m)\u001b[49m\n\u001b[0;32m   1685\u001b[0m \u001b[38;5;28;01mfor\u001b[39;00m alias, annotation \u001b[38;5;129;01min\u001b[39;00m clone\u001b[38;5;241m.\u001b[39mquery\u001b[38;5;241m.\u001b[39mannotations\u001b[38;5;241m.\u001b[39mitems():\n\u001b[0;32m   1686\u001b[0m     \u001b[38;5;28;01mif\u001b[39;00m alias \u001b[38;5;129;01min\u001b[39;00m annotations \u001b[38;5;129;01mand\u001b[39;00m annotation\u001b[38;5;241m.\u001b[39mcontains_aggregate:\n",
      "File \u001b[1;32mD:\\Video\\KMITL\\Year3\\Server-side\\week5\\myvenv\\lib\\site-packages\\django\\db\\models\\sql\\query.py:1198\u001b[0m, in \u001b[0;36mQuery.add_annotation\u001b[1;34m(self, annotation, alias, select)\u001b[0m\n\u001b[0;32m   1196\u001b[0m \u001b[38;5;250m\u001b[39m\u001b[38;5;124;03m\"\"\"Add a single annotation expression to the Query.\"\"\"\u001b[39;00m\n\u001b[0;32m   1197\u001b[0m \u001b[38;5;28mself\u001b[39m\u001b[38;5;241m.\u001b[39mcheck_alias(alias)\n\u001b[1;32m-> 1198\u001b[0m annotation \u001b[38;5;241m=\u001b[39m \u001b[43mannotation\u001b[49m\u001b[38;5;241;43m.\u001b[39;49m\u001b[43mresolve_expression\u001b[49m\u001b[43m(\u001b[49m\u001b[38;5;28;43mself\u001b[39;49m\u001b[43m,\u001b[49m\u001b[43m \u001b[49m\u001b[43mallow_joins\u001b[49m\u001b[38;5;241;43m=\u001b[39;49m\u001b[38;5;28;43;01mTrue\u001b[39;49;00m\u001b[43m,\u001b[49m\u001b[43m \u001b[49m\u001b[43mreuse\u001b[49m\u001b[38;5;241;43m=\u001b[39;49m\u001b[38;5;28;43;01mNone\u001b[39;49;00m\u001b[43m)\u001b[49m\n\u001b[0;32m   1199\u001b[0m \u001b[38;5;28;01mif\u001b[39;00m select:\n\u001b[0;32m   1200\u001b[0m     \u001b[38;5;28mself\u001b[39m\u001b[38;5;241m.\u001b[39mappend_annotation_mask([alias])\n",
      "File \u001b[1;32mD:\\Video\\KMITL\\Year3\\Server-side\\week5\\myvenv\\lib\\site-packages\\django\\db\\models\\expressions.py:854\u001b[0m, in \u001b[0;36mF.resolve_expression\u001b[1;34m(self, query, allow_joins, reuse, summarize, for_save)\u001b[0m\n\u001b[0;32m    851\u001b[0m \u001b[38;5;28;01mdef\u001b[39;00m \u001b[38;5;21mresolve_expression\u001b[39m(\n\u001b[0;32m    852\u001b[0m     \u001b[38;5;28mself\u001b[39m, query\u001b[38;5;241m=\u001b[39m\u001b[38;5;28;01mNone\u001b[39;00m, allow_joins\u001b[38;5;241m=\u001b[39m\u001b[38;5;28;01mTrue\u001b[39;00m, reuse\u001b[38;5;241m=\u001b[39m\u001b[38;5;28;01mNone\u001b[39;00m, summarize\u001b[38;5;241m=\u001b[39m\u001b[38;5;28;01mFalse\u001b[39;00m, for_save\u001b[38;5;241m=\u001b[39m\u001b[38;5;28;01mFalse\u001b[39;00m\n\u001b[0;32m    853\u001b[0m ):\n\u001b[1;32m--> 854\u001b[0m     \u001b[38;5;28;01mreturn\u001b[39;00m \u001b[43mquery\u001b[49m\u001b[38;5;241;43m.\u001b[39;49m\u001b[43mresolve_ref\u001b[49m\u001b[43m(\u001b[49m\u001b[38;5;28;43mself\u001b[39;49m\u001b[38;5;241;43m.\u001b[39;49m\u001b[43mname\u001b[49m\u001b[43m,\u001b[49m\u001b[43m \u001b[49m\u001b[43mallow_joins\u001b[49m\u001b[43m,\u001b[49m\u001b[43m \u001b[49m\u001b[43mreuse\u001b[49m\u001b[43m,\u001b[49m\u001b[43m \u001b[49m\u001b[43msummarize\u001b[49m\u001b[43m)\u001b[49m\n",
      "File \u001b[1;32mD:\\Video\\KMITL\\Year3\\Server-side\\week5\\myvenv\\lib\\site-packages\\django\\db\\models\\sql\\query.py:2008\u001b[0m, in \u001b[0;36mQuery.resolve_ref\u001b[1;34m(self, name, allow_joins, reuse, summarize)\u001b[0m\n\u001b[0;32m   2006\u001b[0m         \u001b[38;5;28;01mreturn\u001b[39;00m annotation\n\u001b[0;32m   2007\u001b[0m \u001b[38;5;28;01melse\u001b[39;00m:\n\u001b[1;32m-> 2008\u001b[0m     field_list \u001b[38;5;241m=\u001b[39m \u001b[43mname\u001b[49m\u001b[38;5;241;43m.\u001b[39;49m\u001b[43msplit\u001b[49m(LOOKUP_SEP)\n\u001b[0;32m   2009\u001b[0m     annotation \u001b[38;5;241m=\u001b[39m \u001b[38;5;28mself\u001b[39m\u001b[38;5;241m.\u001b[39mannotations\u001b[38;5;241m.\u001b[39mget(field_list[\u001b[38;5;241m0\u001b[39m])\n\u001b[0;32m   2010\u001b[0m     \u001b[38;5;28;01mif\u001b[39;00m annotation \u001b[38;5;129;01mis\u001b[39;00m \u001b[38;5;129;01mnot\u001b[39;00m \u001b[38;5;28;01mNone\u001b[39;00m:\n",
      "\u001b[1;31mAttributeError\u001b[0m: 'CombinedExpression' object has no attribute 'split'"
     ]
    }
   ],
   "source": [
    "for i in Product.objects.annotate(total=F(\"price\"*F(\"remaining_amount\"))):\n",
    "    print(i)"
   ]
  },
  {
   "cell_type": "markdown",
   "id": "01aa1576",
   "metadata": {},
   "source": [
    "1.2 ต่อเนื่องจากข้อ 1.1 ให้ filter เฉพาะข้อมูล Product ที่มี \"total_price\" มากกว่า 1,000,000 และ \"remaining_amount\" น้อยกว่า 10 ชิ้น\n",
    "\n",
    "ตัวอย่าง Output\n",
    "\n",
    "```\n",
    "ID: 65, PRICE: 1200000.00, AMOUNT: 2, TOTAL PRICE: 2400000.00\n",
    "```"
   ]
  },
  {
   "cell_type": "code",
   "execution_count": null,
   "id": "b8890c7f",
   "metadata": {},
   "outputs": [],
   "source": []
  },
  {
   "cell_type": "markdown",
   "id": "e9bb1b78",
   "metadata": {},
   "source": [
    "1.3 ให้นักศึกษาเรียงลำดับข้อมูลลูกค้า (`Customer`) แสดงเพียงแค่ field `id`, `email` และ `full_name` โดยเรียงลำดับข้อมูลตาม (`id`) จาก `น้อยไปมาก` โดยแสดง 10 คนแรก \n",
    "\n",
    "**Hint:** Field `full_name` นั้นจะต้องถูก annotate ขึ้นมาโดยการนำ `first_name` มาต่อกับ `last_name` โดยใช้ `Concat(*expressions, **extra)` \n",
    "\n",
    "```python\n",
    ">>> Product.objects.filter(description__icontains=\"advance\").values()\n",
    "<QuerySet [{'id': 1, 'name': 'Smartphone', 'description': 'A sleek and powerful smartphone with advanced features.', 'remaining_amount': 24, 'price': Decimal('5900.00')}, {'id': 7, 'name': 'Digital Camera', 'description': 'High-resolution digital camera with advanced photography features.', 'remaining_amount': 4, 'price': Decimal('32000.00')}]>\n",
    "```\n",
    "\n",
    "**Hint:** แปลง object เป็น dict ใช้ `values()`\n",
    "\n",
    "**Hint:** อยาก print dictionary สวยๆ ใช้ `json.dumps`\n",
    "\n",
    "```python\n",
    "print(json.dumps(dictionary, indent=4, sort_keys=False))\n",
    "```\n",
    "\n",
    "ตัวอย่าง Output \n",
    "\n",
    "```\n",
    "[\n",
    "    {\n",
    "        \"id\": 1,\n",
    "        \"email\": \"panita.hong@gmail.com\",\n",
    "        \"full_name\": \"Panita Hongsakulpan\"\n",
    "    },\n",
    "    {\n",
    "        \"id\": 2,\n",
    "        \"email\": \"pakin.jan@gmail.com\",\n",
    "        \"full_name\": \"Pakin Janpen\"\n",
    "    },\n",
    "    {\n",
    "        \"id\": 3,\n",
    "        \"email\": \"jenjira.su@gmail.com\",\n",
    "        \"full_name\": \"Jenjira Sukanansarn\"\n",
    "    },\n",
    "    {\n",
    "        \"id\": 4,\n",
    "        \"email\": \"dejwit.tt@gmail.com\",\n",
    "        \"full_name\": \"Dejwit Tangjareonsakul\"\n",
    "    },\n",
    "    {\n",
    "        \"id\": 5,\n",
    "        \"email\": \"pong.23@gmail.com\",\n",
    "        \"full_name\": \"Pong Sawadiwong\"\n",
    "    },\n",
    "    {\n",
    "        \"id\": 6,\n",
    "        \"email\": \"thiti.za@gmail.com\",\n",
    "        \"full_name\": \"Thitirat Sukkesorn\"\n",
    "    },\n",
    "    {\n",
    "        \"id\": 7,\n",
    "        \"email\": \"prontipa.za@gmail.com\",\n",
    "        \"full_name\": \"Porntipa Pasakul\"\n",
    "    },\n",
    "    {\n",
    "        \"id\": 8,\n",
    "        \"email\": \"warit.za@gmail.com\",\n",
    "        \"full_name\": \"Warit Pititat\"\n",
    "    },\n",
    "    {\n",
    "        \"id\": 9,\n",
    "        \"email\": \"sira.za@gmail.com\",\n",
    "        \"full_name\": \"Sira Pititat\"\n",
    "    },\n",
    "    {\n",
    "        \"id\": 10,\n",
    "        \"email\": \"wanaporn.over@gmail.com\",\n",
    "        \"full_name\": \"Wanaporn Klabpetch\"\n",
    "    }\n",
    "]\n",
    "```"
   ]
  },
  {
   "cell_type": "code",
   "execution_count": null,
   "id": "52d944d1",
   "metadata": {},
   "outputs": [],
   "source": []
  },
  {
   "cell_type": "markdown",
   "id": "b9951ec5",
   "metadata": {},
   "source": [
    "### 2. aggregation\n",
    "2.1 ให้นักศึกษาหาค่าเฉลี่ยของราคาสินค้า (`Product.price`) ที่มีจำนวนคงเหลือ (`Product.remaining_amount`) ตั้งแต่ 100 ชิ้นขึ้นไป \n",
    "\n",
    "ตัวอย่าง Output \n",
    "\n",
    "``` PYTHON\n",
    "Average Price: 664.4545454545454545\n",
    "```\n"
   ]
  },
  {
   "cell_type": "code",
   "execution_count": null,
   "id": "a429d26c",
   "metadata": {},
   "outputs": [],
   "source": []
  },
  {
   "cell_type": "markdown",
   "id": "b7f36676",
   "metadata": {},
   "source": [
    "2.2 ให้นักศึกษาหาราคาของสินค้า (`Product.price`) ที่มากที่สุด และ ราคาของสินค้าที่น้อยที่สุด ของสินค้าที่หมด (`Product.remaining_amount`) \n",
    "\n",
    "ตัวอย่าง Output \n",
    "\n",
    "``` PYTHON\n",
    "Max Price: 990.00\n",
    "Min Price: 129.00\n",
    "```"
   ]
  },
  {
   "cell_type": "code",
   "execution_count": null,
   "id": "2fb24b7a",
   "metadata": {},
   "outputs": [],
   "source": []
  },
  {
   "cell_type": "markdown",
   "id": "12c6384e",
   "metadata": {},
   "source": [
    "2.3 จงหาผลรวมราคา (`CartItem.product.price`) ที่อยู่ในตระกร้าสินค้าของวันที่ 1 (ดูจาก `Cart.create_date`)\n",
    "\n",
    "**หมายเหตุ: ผลรวมราคา คือ  sum ของ `CartItem.product.price` * `CartItem.amount`**\n",
    "\n",
    "ตัวอย่าง Output \n",
    "\n",
    "``` PYTHON\n",
    "Sum Price: 830237.00\n",
    "```"
   ]
  },
  {
   "cell_type": "code",
   "execution_count": null,
   "id": "80122c25",
   "metadata": {},
   "outputs": [],
   "source": []
  },
  {
   "cell_type": "markdown",
   "id": "33120703",
   "metadata": {},
   "source": [
    "2.4 นับจำนวนสินค้าที่อยู่ประเภท Clothing and Apparel, Furniture และ ราคาของสินค้าอยู่ในช่วง 1,000.00 - 10,000.00\n",
    "\n",
    "ตัวอย่าง Output \n",
    "\n",
    "``` PYTHON\n",
    "PRODUCT CATEGORY NAME: Clothing and Apparel PRODUCT COUNT: 1\n",
    "PRODUCT CATEGORY NAME: Furniture PRODUCT COUNT: 5\n",
    "```"
   ]
  },
  {
   "cell_type": "code",
   "execution_count": null,
   "id": "4f606cb4",
   "metadata": {},
   "outputs": [],
   "source": []
  },
  {
   "cell_type": "markdown",
   "id": "95a5e6ce",
   "metadata": {},
   "source": [
    "### 3. many-to-many\n",
    "3.1 ให้ค้นหาข้อมูลสินค้า (Product) ที่อยู่ในประเภทสินค้า \"Information Technology\" 10 รายการแรก (เรียงลำดับด้วย `Product.id`) และแสดงชื่อประเภทสินค้า (ProductCategory)\n",
    "\n",
    "ตัวอย่าง Output บางส่วน\n",
    "\n",
    "``` PYTHON\n",
    "Product ID: 1, Product Name: Smartphone, Categories Name: Information Technology, Electronics, Price: 5900.00\n",
    "Product ID: 2, Product Name: Laptop, Categories Name: Information Technology, Electronics, Price: 25999.00\n",
    "Product ID: 3, Product Name: Smart TV, Categories Name: Information Technology, Electronics, Price: 8900.00\n",
    "Product ID: 4, Product Name: Bluetooth Earphones, Categories Name: Information Technology, Electronics, Price: 350.00\n",
    "Product ID: 5, Product Name: Tablet, Categories Name: Information Technology, Electronics, Price: 12900.00\n",
    "```"
   ]
  },
  {
   "cell_type": "code",
   "execution_count": null,
   "id": "2060dd08",
   "metadata": {},
   "outputs": [],
   "source": []
  },
  {
   "cell_type": "markdown",
   "id": "77af1f85",
   "metadata": {},
   "source": [
    "3.2 ให้ทำตามขั้นตอนดังนี้ \n",
    "\n",
    "    1. เปลี่ยนชื่อประเภทสินค้า `Home Appliances` เป็น `Home Decor` \n",
    "    2. เปลี่ยนประเภทสินค้า `Furniture` ให้เป็น `Home Decor` แทน\n",
    "    3. ค้นหาว่าสินค้าที่มีประเภทสินค้าเป็น `Home Decor` ทั้งหมดมีจำนวนเท่าไหร่"
   ]
  },
  {
   "cell_type": "code",
   "execution_count": 4,
   "id": "89e19572",
   "metadata": {},
   "outputs": [],
   "source": []
  },
  {
   "cell_type": "code",
   "execution_count": 5,
   "id": "b41bd1eb",
   "metadata": {},
   "outputs": [],
   "source": []
  },
  {
   "cell_type": "code",
   "execution_count": null,
   "id": "86471274",
   "metadata": {},
   "outputs": [],
   "source": []
  }
 ],
 "metadata": {
  "kernelspec": {
   "display_name": "Django Shell-Plus",
   "language": "python",
   "name": "django_extensions"
  },
  "language_info": {
   "codemirror_mode": {
    "name": "ipython",
    "version": 3
   },
   "file_extension": ".py",
   "mimetype": "text/x-python",
   "name": "python",
   "nbconvert_exporter": "python",
   "pygments_lexer": "ipython3",
   "version": "3.10.5"
  }
 },
 "nbformat": 4,
 "nbformat_minor": 5
}
